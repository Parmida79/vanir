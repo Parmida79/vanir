{
 "cells": [
  {
   "cell_type": "code",
   "id": "initial_id",
   "metadata": {
    "collapsed": true,
    "ExecuteTime": {
     "end_time": "2025-08-12T13:51:34.476248Z",
     "start_time": "2025-08-12T13:51:34.325456Z"
    }
   },
   "source": [
    "from langchain_cohere.llms import Cohere\n",
    "from langchain_cohere import ChatCohere\n",
    "import getpass\n",
    "import os\n",
    "\n",
    "if not os.getenv(\"COHERE_API_KEY\"):\n",
    "    os.environ[\"COHERE_API_KEY\"] = getpass.getpass(\"Enter your Cohere API key: \")\n",
    "# load_dotenv()\n",
    "# os.getenv('COHERE_API_KEY')\n",
    "# os.environ['COHERE_API_KEY'] = getpass.getpass()\n",
    "# model = Cohere()"
   ],
   "outputs": [],
   "execution_count": 7
  },
  {
   "metadata": {
    "ExecuteTime": {
     "end_time": "2025-08-12T13:51:39.642742Z",
     "start_time": "2025-08-12T13:51:39.325979Z"
    }
   },
   "cell_type": "code",
   "source": [
    "model = Cohere(cohere_api_key=os.getenv(\"COHERE_API_KEY\"), temperature=0.1)\n",
    "\n",
    "message = \"ترجمه‌ی کلمه‌ی «دانشگاه» به آلمانی چی میشه؟\"\n",
    "response = model.invoke(message)\n",
    "print(response)"
   ],
   "id": "acbdc5ab38adc99d",
   "outputs": [],
   "execution_count": 8
  },
  {
   "metadata": {
    "ExecuteTime": {
     "end_time": "2025-07-30T13:16:53.077950416Z",
     "start_time": "2025-07-22T16:06:52.242173Z"
    }
   },
   "cell_type": "code",
   "source": [
    "from langchain_cohere import ChatCohere\n",
    "\n",
    "chat = ChatCohere(model='command-r-plus', temprature=0.1)"
   ],
   "id": "162bda7a3a531f43",
   "outputs": [],
   "execution_count": 13
  },
  {
   "metadata": {
    "ExecuteTime": {
     "end_time": "2025-07-22T16:10:18.843133Z",
     "start_time": "2025-07-22T16:10:17.398115Z"
    }
   },
   "cell_type": "code",
   "source": [
    "from langchain_core.messages import HumanMessage, SystemMessage\n",
    "\n",
    "messages = [\n",
    "    SystemMessage(\n",
    "        content=\"تو یک معلم زبان آلمانی هستی. پاسخ دانش‌آموز رو به‌صورت خلاصه و با یک مثال کوتاه رایج و عامیانه بده.\"\n",
    "    ),\n",
    "    HumanMessage(\n",
    "        content=\"ترجمه‌ی کلمه‌ی «دانشگاه» به آلمانی چی میشه؟\"\n",
    "    )\n",
    "]\n",
    "\n",
    "response = chat.invoke(messages)\n",
    "response"
   ],
   "id": "60ce0658867404ef",
   "outputs": [
    {
     "data": {
      "text/plain": [
       "AIMessage(content='دانشگاه به آلمانی \"die Universität\" یا به صورت کوتاه\\u200cشده \"die Uni\" گفته می\\u200cشه. مثلاً می\\u200cتونی بگی: \"Ich gehe zur Uni.\" یعنی \"من دارم می\\u200cرم دانشگاه.\"', additional_kwargs={'documents': None, 'citations': None, 'search_results': None, 'search_queries': None, 'is_search_required': None, 'generation_id': '54ed99a0-8b5f-44d0-b6fa-4e0b4476f779', 'token_count': {'input_tokens': 119.0, 'output_tokens': 48.0}}, response_metadata={'documents': None, 'citations': None, 'search_results': None, 'search_queries': None, 'is_search_required': None, 'generation_id': '54ed99a0-8b5f-44d0-b6fa-4e0b4476f779', 'token_count': {'input_tokens': 119.0, 'output_tokens': 48.0}}, id='run-6011d370-1365-44a0-82a9-0311df46dfa2-0', usage_metadata={'input_tokens': 119, 'output_tokens': 48, 'total_tokens': 167})"
      ]
     },
     "execution_count": 15,
     "metadata": {},
     "output_type": "execute_result"
    }
   ],
   "execution_count": 15
  },
  {
   "metadata": {
    "ExecuteTime": {
     "end_time": "2025-07-22T16:13:16.978193Z",
     "start_time": "2025-07-22T16:13:16.970850Z"
    }
   },
   "cell_type": "code",
   "source": "response.dict()",
   "id": "a267dfc01e8ec29b",
   "outputs": [
    {
     "data": {
      "text/plain": [
       "{'content': 'دانشگاه به آلمانی \"die Universität\" یا به صورت کوتاه\\u200cشده \"die Uni\" گفته می\\u200cشه. مثلاً می\\u200cتونی بگی: \"Ich gehe zur Uni.\" یعنی \"من دارم می\\u200cرم دانشگاه.\"',\n",
       " 'additional_kwargs': {'documents': None,\n",
       "  'citations': None,\n",
       "  'search_results': None,\n",
       "  'search_queries': None,\n",
       "  'is_search_required': None,\n",
       "  'generation_id': '54ed99a0-8b5f-44d0-b6fa-4e0b4476f779',\n",
       "  'token_count': {'input_tokens': 119.0, 'output_tokens': 48.0}},\n",
       " 'response_metadata': {'documents': None,\n",
       "  'citations': None,\n",
       "  'search_results': None,\n",
       "  'search_queries': None,\n",
       "  'is_search_required': None,\n",
       "  'generation_id': '54ed99a0-8b5f-44d0-b6fa-4e0b4476f779',\n",
       "  'token_count': {'input_tokens': 119.0, 'output_tokens': 48.0}},\n",
       " 'type': 'ai',\n",
       " 'name': None,\n",
       " 'id': 'run-6011d370-1365-44a0-82a9-0311df46dfa2-0',\n",
       " 'example': False,\n",
       " 'tool_calls': [],\n",
       " 'invalid_tool_calls': [],\n",
       " 'usage_metadata': {'input_tokens': 119,\n",
       "  'output_tokens': 48,\n",
       "  'total_tokens': 167}}"
      ]
     },
     "execution_count": 17,
     "metadata": {},
     "output_type": "execute_result"
    }
   ],
   "execution_count": 17
  },
  {
   "metadata": {
    "ExecuteTime": {
     "end_time": "2025-07-22T16:13:35.777755Z",
     "start_time": "2025-07-22T16:13:35.771869Z"
    }
   },
   "cell_type": "code",
   "source": "response.content",
   "id": "8b7d4596a7a0278",
   "outputs": [
    {
     "data": {
      "text/plain": [
       "'دانشگاه به آلمانی \"die Universität\" یا به صورت کوتاه\\u200cشده \"die Uni\" گفته می\\u200cشه. مثلاً می\\u200cتونی بگی: \"Ich gehe zur Uni.\" یعنی \"من دارم می\\u200cرم دانشگاه.\"'"
      ]
     },
     "execution_count": 18,
     "metadata": {},
     "output_type": "execute_result"
    }
   ],
   "execution_count": 18
  },
  {
   "metadata": {
    "ExecuteTime": {
     "end_time": "2025-07-22T16:14:38.249187Z",
     "start_time": "2025-07-22T16:14:38.244717Z"
    }
   },
   "cell_type": "code",
   "source": "response.additional_kwargs['token_count']",
   "id": "3a6aca0c99188cef",
   "outputs": [
    {
     "data": {
      "text/plain": [
       "{'input_tokens': 119.0, 'output_tokens': 48.0}"
      ]
     },
     "execution_count": 19,
     "metadata": {},
     "output_type": "execute_result"
    }
   ],
   "execution_count": 19
  },
  {
   "metadata": {
    "ExecuteTime": {
     "end_time": "2025-07-22T16:37:00.146509Z",
     "start_time": "2025-07-22T16:36:54.883629Z"
    }
   },
   "cell_type": "code",
   "source": [
    "### batch\n",
    "from langchain_core.messages import HumanMessage, SystemMessage\n",
    "\n",
    "system = SystemMessage(\n",
    "    content=\"تو یک معلم زبان آلمانی هستی. پاسخ دانش‌آموز رو با نگاه آموزشی و با یک یا چند مثال رایج و عامیانه بده.\")\n",
    "\n",
    "messages = [\n",
    "    [system, HumanMessage(content=\"شب به خیر به آلمانی چی میشه؟\")],\n",
    "    [system, HumanMessage(content=\"چطور به آلمانی بگم من در تهران متولد شدم؟\")]\n",
    "]\n",
    "\n",
    "responses = chat.batch(messages)\n",
    "responses"
   ],
   "id": "3a5de179800d2c2e",
   "outputs": [
    {
     "data": {
      "text/plain": [
       "[AIMessage(content='\"Gute Nacht\" \\n\\nمثال: \"Gute Nacht, schlaf gut!\" (شب بخیر، خواب خوبی داشته باش!)', additional_kwargs={'documents': None, 'citations': None, 'search_results': None, 'search_queries': None, 'is_search_required': None, 'generation_id': 'b571ea41-c050-4cf0-bf77-bf97c6794527', 'token_count': {'input_tokens': 112.0, 'output_tokens': 30.0}}, response_metadata={'documents': None, 'citations': None, 'search_results': None, 'search_queries': None, 'is_search_required': None, 'generation_id': 'b571ea41-c050-4cf0-bf77-bf97c6794527', 'token_count': {'input_tokens': 112.0, 'output_tokens': 30.0}}, id='run-579000da-4a8d-4150-8fe3-aabe7ca6a013-0', usage_metadata={'input_tokens': 112, 'output_tokens': 30, 'total_tokens': 142}),\n",
       " AIMessage(content='شما می\\u200cتوانید بگویید: \"Ich bin in Teheran geboren.\"\\n\\nمثال: \"Ich bin in Teheran geboren und aufgewachsen. Ich habe dort meine ersten Lebensjahre verbracht, bevor meine Familie nach Deutschland zog, als ich zehn war.\"\\n\\nدر این مثال، شخص می\\u200cگوید که در تهران به دنیا آمده و بزرگ شده است. او همچنین توضیح می\\u200cدهد که تا ۱۰ سالگی در تهران زندگی کرده و سپس به آلمان مهاجرت کرده است.', additional_kwargs={'documents': None, 'citations': None, 'search_results': None, 'search_queries': None, 'is_search_required': None, 'generation_id': 'e9f399ef-402c-4be2-b7f6-716208c5fd02', 'token_count': {'input_tokens': 115.0, 'output_tokens': 101.0}}, response_metadata={'documents': None, 'citations': None, 'search_results': None, 'search_queries': None, 'is_search_required': None, 'generation_id': 'e9f399ef-402c-4be2-b7f6-716208c5fd02', 'token_count': {'input_tokens': 115.0, 'output_tokens': 101.0}}, id='run-e51c1a6c-a114-4e2d-a0a4-5125c3ce1631-0', usage_metadata={'input_tokens': 115, 'output_tokens': 101, 'total_tokens': 216})]"
      ]
     },
     "execution_count": 21,
     "metadata": {},
     "output_type": "execute_result"
    }
   ],
   "execution_count": 21
  },
  {
   "metadata": {
    "ExecuteTime": {
     "end_time": "2025-07-22T16:39:17.721987Z",
     "start_time": "2025-07-22T16:39:17.716167Z"
    }
   },
   "cell_type": "code",
   "source": [
    "for response in responses:\n",
    "    print(response.content)\n",
    "    print('*' * 70)"
   ],
   "id": "bc03209079b17045",
   "outputs": [
    {
     "name": "stdout",
     "output_type": "stream",
     "text": [
      "\"Gute Nacht\" \n",
      "\n",
      "مثال: \"Gute Nacht, schlaf gut!\" (شب بخیر، خواب خوبی داشته باش!)\n",
      "**********************************************************************\n",
      "شما می‌توانید بگویید: \"Ich bin in Teheran geboren.\"\n",
      "\n",
      "مثال: \"Ich bin in Teheran geboren und aufgewachsen. Ich habe dort meine ersten Lebensjahre verbracht, bevor meine Familie nach Deutschland zog, als ich zehn war.\"\n",
      "\n",
      "در این مثال، شخص می‌گوید که در تهران به دنیا آمده و بزرگ شده است. او همچنین توضیح می‌دهد که تا ۱۰ سالگی در تهران زندگی کرده و سپس به آلمان مهاجرت کرده است.\n",
      "**********************************************************************\n"
     ]
    }
   ],
   "execution_count": 24
  },
  {
   "metadata": {
    "ExecuteTime": {
     "end_time": "2025-07-22T16:43:52.437272Z",
     "start_time": "2025-07-22T16:43:52.427110Z"
    }
   },
   "cell_type": "code",
   "source": [
    "# display enhancement\n",
    "import markdown\n",
    "from IPython.display import display, HTML\n",
    "\n",
    "\n",
    "def print_md(content):\n",
    "    content = markdown.markdown(content)\n",
    "    content = \"<div dir=rtl>{}</div>\".format(content)\n",
    "    display(HTML(content))\n",
    "\n",
    "\n",
    "for response in responses:\n",
    "    print_md(response.content)\n",
    "    # print('*'*70)"
   ],
   "id": "6a90248c689f0749",
   "outputs": [
    {
     "data": {
      "text/plain": [
       "<IPython.core.display.HTML object>"
      ],
      "text/html": [
       "<div dir=rtl><p>\"Gute Nacht\" </p>\n",
       "<p>مثال: \"Gute Nacht, schlaf gut!\" (شب بخیر، خواب خوبی داشته باش!)</p></div>"
      ]
     },
     "metadata": {},
     "output_type": "display_data"
    },
    {
     "data": {
      "text/plain": [
       "<IPython.core.display.HTML object>"
      ],
      "text/html": [
       "<div dir=rtl><p>شما می‌توانید بگویید: \"Ich bin in Teheran geboren.\"</p>\n",
       "<p>مثال: \"Ich bin in Teheran geboren und aufgewachsen. Ich habe dort meine ersten Lebensjahre verbracht, bevor meine Familie nach Deutschland zog, als ich zehn war.\"</p>\n",
       "<p>در این مثال، شخص می‌گوید که در تهران به دنیا آمده و بزرگ شده است. او همچنین توضیح می‌دهد که تا ۱۰ سالگی در تهران زندگی کرده و سپس به آلمان مهاجرت کرده است.</p></div>"
      ]
     },
     "metadata": {},
     "output_type": "display_data"
    }
   ],
   "execution_count": 32
  },
  {
   "metadata": {
    "ExecuteTime": {
     "end_time": "2025-07-22T17:07:19.320650Z",
     "start_time": "2025-07-22T17:07:13.503144Z"
    }
   },
   "cell_type": "code",
   "source": [
    "for message in messages:\n",
    "    for chunk in chat.stream(message):\n",
    "        print(chunk.content, end=\"\", flush=True)"
   ],
   "id": "c0b3cef296bfbe30",
   "outputs": [
    {
     "name": "stdout",
     "output_type": "stream",
     "text": [
      "\"Gute Nacht\"شما می‌توانید بگویید: \"Ich bin in Teheran geboren.\"\n",
      "\n",
      "مثال: \"Ich bin in Teheran geboren und habe dort die ersten Jahre meines Lebens verbracht. Es ist eine lebhafte und faszinierende Stadt mit einer reichen Geschichte und Kultur.\"\n",
      "\n",
      "به عبارت \"in Teheran\" دقت کنید که نشان‌دهنده محل تولد شماست. همچنین، فعل \"geboren sein\" به معنی \"متولد شدن\" است که در این جمله در زمان ماضی (Perfekt) به کار رفته است."
     ]
    }
   ],
   "execution_count": 37
  },
  {
   "metadata": {
    "ExecuteTime": {
     "end_time": "2025-07-23T17:05:11.451620Z",
     "start_time": "2025-07-23T17:05:11.445414Z"
    }
   },
   "cell_type": "code",
   "source": [
    "from langchain_core.prompts import PromptTemplate\n",
    "\n",
    "prompt_template = PromptTemplate.from_template(\n",
    "    \"Generate a very short conversation between two people about {topic}\"\n",
    ")\n",
    "\n",
    "response = model.invoke(prompt_template.format(topic='weather'))\n",
    "print(response)"
   ],
   "id": "5c8971d8f1bf64d1",
   "outputs": [],
   "execution_count": 3
  },
  {
   "metadata": {
    "ExecuteTime": {
     "end_time": "2025-07-26T17:11:59.273615Z",
     "start_time": "2025-07-26T17:11:56.442540Z"
    }
   },
   "cell_type": "code",
   "source": [
    "from langchain_cohere import ChatCohere\n",
    "from langchain_core.prompts import ChatPromptTemplate\n",
    "\n",
    "chat_model = ChatCohere(model='command-r-plus', temperature=0.1)\n",
    "\n",
    "# poet\n",
    "message_prompt_poem = ChatPromptTemplate.from_messages([\n",
    "    (\"system\", \" تو یک شاعر ایرانی هستی \"),\n",
    "    (\"human\", \"یک شعر دو بیتی درباره‌ی {topic} بگو\")\n",
    "])\n",
    "\n",
    "chain_poem = message_prompt_poem | chat_model\n",
    "\n",
    "%time\n",
    "chain_response_poem = chain_poem.invoke({\"topic\": \"پاییز\"})\n",
    "print(f'{chain_response_poem.content}')\n"
   ],
   "id": "e6257f583485074f",
   "outputs": [
    {
     "name": "stdout",
     "output_type": "stream",
     "text": [
      "CPU times: user 3 μs, sys: 0 ns, total: 3 μs\n",
      "Wall time: 6.44 μs\n",
      "پاییز آمد و برگ‌ها رنگارنگ شد\n",
      "باد خزان، رقص کنان، در درختان نشست\n",
      "باران مهر، بر زمین تشنه می‌بارد\n",
      "فصل شادی و عشق و شور و نوا رسید\n",
      "\n",
      "در این فصل، عشق در هر برگ و باریدن باران است\n",
      "در هر نسیم خنک و در هر نغمه‌ی پرستوی\n"
     ]
    }
   ],
   "execution_count": 8
  },
  {
   "metadata": {
    "ExecuteTime": {
     "end_time": "2025-07-26T17:12:03.343864Z",
     "start_time": "2025-07-26T17:11:59.310629Z"
    }
   },
   "cell_type": "code",
   "source": [
    "# writer\n",
    "message_prompt_story = ChatPromptTemplate.from_messages([\n",
    "    (\"system\", \" تو یک نویسنده‌ی ایرانی هستی \"),\n",
    "    (\"human\", \"یک داستان خیلی خیلی خیلی کوتاه درباره‌ی {topic}\")\n",
    "])\n",
    "\n",
    "chain_story = message_prompt_story | chat_model\n",
    "\n",
    "%time\n",
    "chain_response_story = chain_story.invoke({\"topic\": \"پاییز\"})\n",
    "print(f'{chain_response_story.content}')"
   ],
   "id": "3243aff3bd53bcc5",
   "outputs": [
    {
     "name": "stdout",
     "output_type": "stream",
     "text": [
      "CPU times: user 4 μs, sys: 0 ns, total: 4 μs\n",
      "Wall time: 6.91 μs\n",
      "پاییز آمده بود و برگ‌ها یکی یکی از درختان جدا می‌شدند و روی زمین می‌افتادند. دخترکی زیر درختی ایستاده بود و به رقص برگ‌ها در باد نگاه می‌کرد. او دست‌هایش را باز کرد و برگ‌ها را جمع کرد، گویی هدیه‌ای از آسمان بود. دخترک برگ‌ها را روی هم ریخت و خندید، در حالی که خورشید غروب می‌کرد و آسمان به رنگ‌های نارنجی و زرد درخشان می‌شد.\n"
     ]
    }
   ],
   "execution_count": 9
  },
  {
   "metadata": {
    "ExecuteTime": {
     "end_time": "2025-07-26T17:18:38.155103Z",
     "start_time": "2025-07-26T17:18:34.873617Z"
    }
   },
   "cell_type": "code",
   "source": [
    "# joining the runnables together using RunnableParallel\n",
    "from langchain_core.runnables import RunnableParallel\n",
    "\n",
    "combined = RunnableParallel(poem=chain_poem, story=chain_story)\n",
    "%time\n",
    "combined.invoke({\"topic\": \"پاییز\"})"
   ],
   "id": "b0d96f7472bc04f4",
   "outputs": [
    {
     "name": "stdout",
     "output_type": "stream",
     "text": [
      "CPU times: user 4 μs, sys: 2 μs, total: 6 μs\n",
      "Wall time: 12.2 μs\n"
     ]
    },
    {
     "data": {
      "text/plain": [
       "{'poem': AIMessage(content='پاییز آمد و برگ\\u200cها را رنگارنگ کرد\\nباد خنک می\\u200cوزد و برگ\\u200cها را به رقص در می\\u200cآورد\\n\\nدرختان لباس زرد و قرمز خود را به نمایش می\\u200cگذارند\\nپاییز، فصلی است که طبیعت را به خواب زمستانی دعوت می\\u200cکند', additional_kwargs={'documents': None, 'citations': None, 'search_results': None, 'search_queries': None, 'is_search_required': None, 'generation_id': 'b895dbbb-ca09-4322-baa6-2341bc6c08a7', 'token_count': {'input_tokens': 89.0, 'output_tokens': 71.0}}, response_metadata={'documents': None, 'citations': None, 'search_results': None, 'search_queries': None, 'is_search_required': None, 'generation_id': 'b895dbbb-ca09-4322-baa6-2341bc6c08a7', 'token_count': {'input_tokens': 89.0, 'output_tokens': 71.0}}, id='run-9b3cfdd3-33ec-47f4-b93a-7692124ced71-0', usage_metadata={'input_tokens': 89, 'output_tokens': 71, 'total_tokens': 160}),\n",
       " 'story': AIMessage(content='پاییز آمده بود و برگ\\u200cها یکی یکی از درختان جدا می\\u200cشدند و روی زمین می\\u200cافتادند. دخترکی زیر درختی ایستاده بود و به رقص برگ\\u200cها در باد نگاه می\\u200cکرد. او دست\\u200cهایش را باز کرد و برگ\\u200cها را جمع کرد، مثل این که داشت آنها را بغل می\\u200cکرد. دخترک برگ\\u200cها را به سمت آسمان پرتاب کرد و آنها مثل پروانه\\u200cهایی رنگارنگ در هوا رقصیدند. دخترک خندید و گفت: \"پاییز، فصل رقص پروانه\\u200cهاست.\"', additional_kwargs={'documents': None, 'citations': None, 'search_results': None, 'search_queries': None, 'is_search_required': None, 'generation_id': '7e8d41e6-85ea-4837-ae9e-1c80953d5e93', 'token_count': {'input_tokens': 93.0, 'output_tokens': 128.0}}, response_metadata={'documents': None, 'citations': None, 'search_results': None, 'search_queries': None, 'is_search_required': None, 'generation_id': '7e8d41e6-85ea-4837-ae9e-1c80953d5e93', 'token_count': {'input_tokens': 93.0, 'output_tokens': 128.0}}, id='run-a0683a0c-0449-4112-acf3-6cdc7bf678a0-0', usage_metadata={'input_tokens': 93, 'output_tokens': 128, 'total_tokens': 221})}"
      ]
     },
     "execution_count": 12,
     "metadata": {},
     "output_type": "execute_result"
    }
   ],
   "execution_count": 12
  },
  {
   "metadata": {
    "ExecuteTime": {
     "end_time": "2025-07-30T13:19:06.185228Z",
     "start_time": "2025-07-30T13:19:06.106427Z"
    }
   },
   "cell_type": "code",
   "source": [
    "from langchain_core.prompts import ChatPromptTemplate\n",
    "from langchain_core.output_parsers import StrOutputParser\n",
    "\n",
    "chat_model = ChatCohere(model='command-r-plus', temperature=0.1)\n",
    "\n",
    "message_prompt = ChatPromptTemplate.from_messages([\n",
    "    (\"system\", \" تو یک معلم ریاضی هستی \"),\n",
    "    (\"human\", \"عدد {first_number} به علاوه‌ی {second_number} چند می‌شود؟\")\n",
    "])\n",
    "\n",
    "model_chain = message_prompt | chat_model | StrOutputParser()"
   ],
   "id": "477d1684058e3c64",
   "outputs": [],
   "execution_count": 6
  },
  {
   "metadata": {
    "ExecuteTime": {
     "end_time": "2025-07-30T13:22:30.477482Z",
     "start_time": "2025-07-30T13:22:29.447018Z"
    }
   },
   "cell_type": "code",
   "source": [
    "first_number, second_number = \"۱۲\", \"شصت و دو\"\n",
    "\n",
    "chain_response = model_chain.invoke({\"first_number\": first_number, \"second_number\": second_number})\n",
    "print(chain_response)"
   ],
   "id": "1e346598e8170a46",
   "outputs": [
    {
     "name": "stdout",
     "output_type": "stream",
     "text": [
      "74\n"
     ]
    }
   ],
   "execution_count": 9
  },
  {
   "metadata": {
    "ExecuteTime": {
     "end_time": "2025-07-30T15:25:13.679274Z",
     "start_time": "2025-07-30T15:25:13.675100Z"
    }
   },
   "cell_type": "code",
   "source": [
    "import re\n",
    "\n",
    "\n",
    "# Define a function to count the number of numbers in a text\n",
    "def count_numbers(text):\n",
    "    # Find all numbers in the text (including Persian and Arabic numbers)\n",
    "    pattern = r'[0-9۰-۹]+'\n",
    "    numbers = re.findall(pattern, text)\n",
    "\n",
    "    # Return the number of numbers found in str format\n",
    "    return str(len(numbers))"
   ],
   "id": "d2c129d997b3829d",
   "outputs": [],
   "execution_count": 10
  },
  {
   "metadata": {
    "ExecuteTime": {
     "end_time": "2025-07-30T15:31:16.022348Z",
     "start_time": "2025-07-30T15:31:14.956790Z"
    }
   },
   "cell_type": "code",
   "source": [
    "from langchain_core.runnables import RunnableLambda\n",
    "\n",
    "count_numbers_runnable = RunnableLambda(count_numbers)\n",
    "\n",
    "chain_with_runnable = model_chain | count_numbers_runnable\n",
    "\n",
    "chain_with_runnable_response = chain_with_runnable.invoke(\n",
    "    {\"first_number\": first_number, \"second_number\": second_number})\n",
    "\n",
    "print(chain_with_runnable_response)"
   ],
   "id": "19be31fe0e1cbad4",
   "outputs": [
    {
     "name": "stdout",
     "output_type": "stream",
     "text": [
      "1\n"
     ]
    }
   ],
   "execution_count": 14
  },
  {
   "metadata": {
    "ExecuteTime": {
     "end_time": "2025-07-30T16:26:09.698317Z",
     "start_time": "2025-07-30T16:26:09.687100Z"
    }
   },
   "cell_type": "code",
   "source": [
    "from langchain_core.runnables import RunnableParallel, RunnablePassthrough\n",
    "\n",
    "# example 1\n",
    "runnable = RunnableParallel(\n",
    "    original=RunnablePassthrough(),\n",
    "    length=lambda x: len(x['input'])\n",
    ")\n",
    "# runnable.invoke({'input': 'Quera'})\n",
    "# output:\n",
    "# {'original': {'input': 'Quera'}, 'length': 5}\n",
    "\n",
    "\n",
    "# example 2\n",
    "# assigning new key value pair using RunnablePassthrough\n",
    "runnable = RunnableParallel(\n",
    "    original=RunnablePassthrough().assign(lower=lambda x: x['input'].lower()),\n",
    "    length=lambda x: len(x['input'])\n",
    ")\n",
    "runnable.invoke({'input': 'Quera'})"
   ],
   "id": "b3652daf9a108322",
   "outputs": [
    {
     "data": {
      "text/plain": [
       "{'original': {'input': 'Quera', 'lower': 'quera'}, 'length': 5}"
      ]
     },
     "execution_count": 15,
     "metadata": {},
     "output_type": "execute_result"
    }
   ],
   "execution_count": 15
  },
  {
   "metadata": {
    "ExecuteTime": {
     "end_time": "2025-07-30T16:34:06.986468Z",
     "start_time": "2025-07-30T16:34:06.982233Z"
    }
   },
   "cell_type": "code",
   "source": [
    "from langchain_core.runnables import RunnableParallel\n",
    "\n",
    "final_output = RunnableParallel({\n",
    "    \"model_answer\": RunnablePassthrough(),  # model's response\n",
    "    \"count_numbers_answer\": count_numbers_runnable  # our custom response\n",
    "})\n",
    "\n",
    "combined_chain = model_chain | final_output"
   ],
   "id": "9a9abd1567aa5120",
   "outputs": [],
   "execution_count": 21
  },
  {
   "metadata": {
    "ExecuteTime": {
     "end_time": "2025-07-30T16:34:15.481132Z",
     "start_time": "2025-07-30T16:34:14.433976Z"
    }
   },
   "cell_type": "code",
   "source": [
    "response = combined_chain.invoke({\"first_number\": first_number, \"second_number\": second_number})\n",
    "response"
   ],
   "id": "6dcd62f18a50af14",
   "outputs": [
    {
     "data": {
      "text/plain": [
       "{'model_answer': '74', 'count_numbers_answer': '1'}"
      ]
     },
     "execution_count": 22,
     "metadata": {},
     "output_type": "execute_result"
    }
   ],
   "execution_count": 22
  },
  {
   "metadata": {
    "ExecuteTime": {
     "end_time": "2025-08-09T10:12:22.982570Z",
     "start_time": "2025-08-09T10:12:22.975041Z"
    }
   },
   "cell_type": "code",
   "source": [
    "from operator import itemgetter\n",
    "from langchain_core.prompts import ChatPromptTemplate\n",
    "from langchain_core.output_parsers import StrOutputParser\n",
    "\n",
    "person_prompt = ChatPromptTemplate.from_template(\"what is the city {person} is from?\")\n",
    "\n",
    "sub_chain = person_prompt | model | StrOutputParser()\n",
    "print(sub_chain)\n",
    "print(type(sub_chain))"
   ],
   "id": "d532c4520972bea8",
   "outputs": [
    {
     "name": "stdout",
     "output_type": "stream",
     "text": [
      "first=ChatPromptTemplate(input_variables=['person'], messages=[HumanMessagePromptTemplate(prompt=PromptTemplate(input_variables=['person'], template='what is the city {person} is from?'))]) middle=[Cohere(client=<cohere.client.Client object at 0x7915e004f990>, async_client=<cohere.client.AsyncClient object at 0x7915e073df50>, temperature=0.1, cohere_api_key=SecretStr('**********'))] last=StrOutputParser()\n",
      "<class 'langchain_core.runnables.base.RunnableSequence'>\n"
     ]
    }
   ],
   "execution_count": 6
  },
  {
   "metadata": {
    "ExecuteTime": {
     "end_time": "2025-08-12T13:55:06.740775Z",
     "start_time": "2025-08-12T13:54:58.615136Z"
    }
   },
   "cell_type": "code",
   "source": [
    "from langchain_core.prompts import ChatPromptTemplate\n",
    "\n",
    "example_prompt = ChatPromptTemplate.from_messages(\n",
    "    [(\"human\", \"{question}\"),\n",
    "     (\"ai\", \"{answer}\")\n",
    "     ]\n",
    ")\n",
    "\n",
    "without_few_shot = ChatPromptTemplate.from_messages(\n",
    "    [(\"system\", \"احساس متن زیر رو دسته بندی کن\"),\n",
    "     (\"human\", \"{question}\")\n",
    "     ]\n",
    ")\n",
    "\n",
    "chain_without_few_shot = without_few_shot | model\n",
    "\n",
    "chat_ai = chain_without_few_shot.invoke({\"question\": \"آخه کی می‌ره این فیلمو ببینه؟\"})"
   ],
   "id": "5d7b4cc0240c82dd",
   "outputs": [],
   "execution_count": 12
  },
  {
   "metadata": {
    "ExecuteTime": {
     "end_time": "2025-08-12T13:55:10.816133Z",
     "start_time": "2025-08-12T13:55:10.812587Z"
    }
   },
   "cell_type": "code",
   "source": "print(chat_ai)",
   "id": "d33eab3fc942cf2e",
   "outputs": [
    {
     "name": "stdout",
     "output_type": "stream",
     "text": [
      " این فیلم در زمستان بوده است. داستان به زوجی که در حال حاضر در بیمارستان به دلیل بیماری است، و با زوجی که در سال تحت زندان قرار دارد، اتفاق می‌افتد. با این حال با زوجی که در حال حاضر در بیمارستان بوده است، داستان به زوجی که در سال تحت زندان قرار دارد، و با زوجی که در حال حاضر در بیمارستان بوده است، مواجه می‌شوند.\n"
     ]
    }
   ],
   "execution_count": 13
  },
  {
   "metadata": {
    "ExecuteTime": {
     "end_time": "2025-08-12T13:57:18.511789Z",
     "start_time": "2025-08-12T13:57:01.313973Z"
    }
   },
   "cell_type": "code",
   "source": [
    "from langchain_core.prompts import FewShotChatMessagePromptTemplate\n",
    "\n",
    "# with few samples\n",
    "examples = [\n",
    "    {\"question\": \"من عاشق این فیلمم!\",\n",
    "     \"answer\": \"مثبت\"},\n",
    "    {\"question\": \"از این صندلی خوشم نمی‌اد\",\n",
    "     \"answer\": \"منفی\"}\n",
    "]\n",
    "\n",
    "few_shot_prompt = FewShotChatMessagePromptTemplate(\n",
    "    example_prompt=example_prompt,\n",
    "    examples=examples,\n",
    ")\n",
    "\n",
    "final_prompt_with_few_shot = ChatPromptTemplate.from_messages(\n",
    "    [(\"system\", \"احساس متن زیر رو دسته بندی کن\"),\n",
    "     few_shot_prompt,\n",
    "     (\"human\", \"{question}\")\n",
    "     ]\n",
    ")\n",
    "\n",
    "chain_with_few_shot = final_prompt_with_few_shot | model\n",
    "\n",
    "chat_ai = chain_with_few_shot.invoke({\"question\": \"آخه کی می‌ره این فیلمو ببینه؟\"})"
   ],
   "id": "17c6184a7cfb8cb3",
   "outputs": [],
   "execution_count": 15
  },
  {
   "metadata": {
    "ExecuteTime": {
     "end_time": "2025-08-12T13:57:29.300318Z",
     "start_time": "2025-08-12T13:57:29.290760Z"
    }
   },
   "cell_type": "code",
   "source": "print(chat_ai)",
   "id": "9d0c671db235db52",
   "outputs": [
    {
     "name": "stdout",
     "output_type": "stream",
     "text": [
      " این فیلم برای احساس منفی شخص مناسب است. از این صندلی که به نظر من اسم و نام آن نقل از سوپرمارک است، لطفا ببین و احساس کن. \n",
      "\n",
      "اگر این فیلم برای تو احساس است که چگونه باید ببین: \n",
      "- با شما هم صندلی کردم که باید ببینه است که چگونه احساس منفی شدید شخصی رو نیز دارید\n",
      "- اگر چند کار برای بروز بهترین شخصیت این فیلم برای تو باشد، باید بر روی آن‌ها کاملا روی نفر احساس کرد. \n",
      "- اگر به دنبال یک شخصیت برای درد کردن و احساس خوردن شدید آن را ببینید و برای کسب این احساسی که درد کردید، باید بر روی آن‌ ببین. \n",
      "\n",
      "اگر این فیلم برای تو احساس نیست، لطفا برای من احساس کن.\n"
     ]
    }
   ],
   "execution_count": 17
  },
  {
   "metadata": {
    "ExecuteTime": {
     "end_time": "2025-08-12T14:05:53.794510Z",
     "start_time": "2025-08-12T14:05:48.573919Z"
    }
   },
   "cell_type": "code",
   "source": [
    "from langchain_core.example_selectors import SemanticSimilarityExampleSelector\n",
    "from langchain_chroma import Chroma\n",
    "from langchain_cohere import CohereEmbeddings\n",
    "\n",
    "examples = [\n",
    "    {\n",
    "        \"question\": \"خوشحال\",\n",
    "        \"answer\": \"ناراحت\"\n",
    "    },\n",
    "    {\n",
    "        \"question\": \"مادر\",\n",
    "        \"answer\": \"مهربان\"\n",
    "    },\n",
    "    {\n",
    "        \"question\": \"روز\",\n",
    "        \"answer\": \"خورشید\"\n",
    "    },\n",
    "]\n",
    "\n",
    "embeddings = CohereEmbeddings(model='embed-multilingual-v3.0')\n",
    "to_vectorize = [\" \".join(example.values()) for example in examples]\n",
    "vectorstore = Chroma.from_texts(to_vectorize, embeddings, metadatas=examples)\n",
    "\n",
    "example_selector = SemanticSimilarityExampleSelector(\n",
    "    vectorstore=vectorstore,\n",
    "    k=2,\n",
    ")"
   ],
   "id": "d9fe1d635ba8fc4f",
   "outputs": [
    {
     "name": "stderr",
     "output_type": "stream",
     "text": [
      "Retrying langchain_cohere.embeddings.CohereEmbeddings.embed_with_retry.<locals>._embed_with_retry in 4.0 seconds as it raised ConnectError: [Errno 111] Connection refused.\n"
     ]
    }
   ],
   "execution_count": 19
  },
  {
   "metadata": {
    "ExecuteTime": {
     "end_time": "2025-08-12T14:16:10.500337Z",
     "start_time": "2025-08-12T14:16:09.977289Z"
    }
   },
   "cell_type": "code",
   "source": "example_selector.select_examples({\"question\": \"مضطرب\"})",
   "id": "e156309961fdb645",
   "outputs": [
    {
     "data": {
      "text/plain": [
       "[{'answer': 'ناراحت', 'question': 'خوشحال'},\n",
       " {'answer': 'ناراحت', 'question': 'خوشحال'}]"
      ]
     },
     "execution_count": 24,
     "metadata": {},
     "output_type": "execute_result"
    }
   ],
   "execution_count": 24
  },
  {
   "metadata": {
    "ExecuteTime": {
     "end_time": "2025-08-12T14:16:04.056296Z",
     "start_time": "2025-08-12T14:16:04.051338Z"
    }
   },
   "cell_type": "code",
   "source": [
    "few_shot_prompt = FewShotChatMessagePromptTemplate(\n",
    "    input_variables=[\"question\"],\n",
    "    example_selector=example_selector,\n",
    "    example_prompt=ChatPromptTemplate.from_messages(\n",
    "        [(\"human\", \"{question}\"), (\"ai\", \"{answer}\")]\n",
    "    ),\n",
    ")\n",
    "\n",
    "final_prompt = ChatPromptTemplate.from_messages(\n",
    "    [\n",
    "     few_shot_prompt,\n",
    "     (\"human\", \"{question}\")\n",
    "    ]\n",
    ")\n",
    "\n",
    "chain = final_prompt | model"
   ],
   "id": "daece87fb25f7914",
   "outputs": [],
   "execution_count": 23
  },
  {
   "metadata": {
    "ExecuteTime": {
     "end_time": "2025-08-12T14:16:20.376514Z",
     "start_time": "2025-08-12T14:16:15.247219Z"
    }
   },
   "cell_type": "code",
   "source": [
    "chat_ai = chain.invoke({\"question\": \"مضطرب\"})\n",
    "print(chat_ai)"
   ],
   "id": "eed3f42b924b103",
   "outputs": [
    {
     "name": "stderr",
     "output_type": "stream",
     "text": [
      "Retrying langchain_cohere.llms.completion_with_retry.<locals>._completion_with_retry in 4.0 seconds as it raised ConnectError: [Errno 111] Connection refused.\n"
     ]
    },
    {
     "name": "stdout",
     "output_type": "stream",
     "text": [
      " افتخار\n"
     ]
    }
   ],
   "execution_count": 25
  },
  {
   "metadata": {
    "ExecuteTime": {
     "end_time": "2025-08-12T14:16:27.032264Z",
     "start_time": "2025-08-12T14:16:25.367838Z"
    }
   },
   "cell_type": "code",
   "source": [
    "chat_ai = chain.invoke({\"question\": \"پدر\"})\n",
    "print(chat_ai)"
   ],
   "id": "96effd1e64b05ef6",
   "outputs": [
    {
     "name": "stdout",
     "output_type": "stream",
     "text": [
      " پوربان\n"
     ]
    }
   ],
   "execution_count": 26
  },
  {
   "metadata": {
    "ExecuteTime": {
     "end_time": "2025-08-12T14:33:19.674989Z",
     "start_time": "2025-08-12T14:33:19.672022Z"
    }
   },
   "cell_type": "code",
   "source": [
    "from langchain_core.example_selectors import LengthBasedExampleSelector\n",
    "\n",
    "# example_selector = LengthBasedExampleSelector(\n",
    "#     examples=examples,\n",
    "#     example_prompt=example_prompt,\n",
    "#     max_length= 25)\n",
    "#\n",
    "# dynamic_prompt = FewShotChatMessagePromptTemplate(\n",
    "#     example_selector=example_selector,\n",
    "#     example_prompt=example_prompt,\n",
    "#     input_variables=[\"question\"]\n",
    "# )"
   ],
   "id": "c76e377c408e1a62",
   "outputs": [],
   "execution_count": 29
  },
  {
   "metadata": {},
   "cell_type": "code",
   "outputs": [],
   "execution_count": null,
   "source": "",
   "id": "a072ad9aadc02c8a"
  }
 ],
 "metadata": {
  "kernelspec": {
   "display_name": "Python 3",
   "language": "python",
   "name": "python3"
  },
  "language_info": {
   "codemirror_mode": {
    "name": "ipython",
    "version": 2
   },
   "file_extension": ".py",
   "mimetype": "text/x-python",
   "name": "python",
   "nbconvert_exporter": "python",
   "pygments_lexer": "ipython2",
   "version": "2.7.6"
  }
 },
 "nbformat": 4,
 "nbformat_minor": 5
}
