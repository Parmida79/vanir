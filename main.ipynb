{
 "cells": [
  {
   "cell_type": "code",
   "id": "initial_id",
   "metadata": {
    "collapsed": true,
    "ExecuteTime": {
     "end_time": "2025-07-30T13:18:52.809092Z",
     "start_time": "2025-07-30T13:18:52.800211Z"
    }
   },
   "source": [
    "from langchain_cohere.llms import Cohere\n",
    "from langchain_cohere import ChatCohere\n",
    "import getpass\n",
    "import os\n",
    "\n",
    "if not os.getenv(\"COHERE_API_KEY\"):\n",
    "    os.environ[\"COHERE_API_KEY\"] = getpass.getpass(\"Enter your Cohere API key: \")\n",
    "# load_dotenv()\n",
    "# os.getenv('COHERE_API_KEY')\n",
    "# os.environ['COHERE_API_KEY'] = getpass.getpass()\n",
    "# model = Cohere()"
   ],
   "outputs": [],
   "execution_count": 5
  },
  {
   "metadata": {
    "ExecuteTime": {
     "end_time": "2025-07-30T13:16:53.065600Z",
     "start_time": "2025-07-30T13:16:38.801976Z"
    }
   },
   "cell_type": "code",
   "source": [
    "model = Cohere(cohere_api_key=os.getenv(\"COHERE_API_KEY\"), temperature=0.1)\n",
    "\n",
    "message = \"ترجمه‌ی کلمه‌ی «دانشگاه» به آلمانی چی میشه؟\"\n",
    "response = model.invoke(message)\n",
    "print(response)"
   ],
   "id": "acbdc5ab38adc99d",
   "outputs": [
    {
     "ename": "KeyboardInterrupt",
     "evalue": "",
     "output_type": "error",
     "traceback": [
      "\u001B[31m---------------------------------------------------------------------------\u001B[39m",
      "\u001B[31mKeyboardInterrupt\u001B[39m                         Traceback (most recent call last)",
      "\u001B[36mCell\u001B[39m\u001B[36m \u001B[39m\u001B[32mIn[3]\u001B[39m\u001B[32m, line 4\u001B[39m\n\u001B[32m      1\u001B[39m model = Cohere(cohere_api_key=os.getenv(\u001B[33m\"\u001B[39m\u001B[33mCOHERE_API_KEY\u001B[39m\u001B[33m\"\u001B[39m), temperature=\u001B[32m0.1\u001B[39m)\n\u001B[32m      3\u001B[39m message = \u001B[33m\"\u001B[39m\u001B[33mترجمه‌ی کلمه‌ی «دانشگاه» به آلمانی چی میشه؟\u001B[39m\u001B[33m\"\u001B[39m\n\u001B[32m----> \u001B[39m\u001B[32m4\u001B[39m response = model.invoke(message)\n\u001B[32m      5\u001B[39m \u001B[38;5;28mprint\u001B[39m(response)\n",
      "\u001B[36mFile \u001B[39m\u001B[32m~/miniconda3/envs/vanir/lib/python3.11/site-packages/langchain_core/language_models/llms.py:385\u001B[39m, in \u001B[36mBaseLLM.invoke\u001B[39m\u001B[34m(self, input, config, stop, **kwargs)\u001B[39m\n\u001B[32m    375\u001B[39m \u001B[38;5;28;01mdef\u001B[39;00m\u001B[38;5;250m \u001B[39m\u001B[34minvoke\u001B[39m(\n\u001B[32m    376\u001B[39m     \u001B[38;5;28mself\u001B[39m,\n\u001B[32m    377\u001B[39m     \u001B[38;5;28minput\u001B[39m: LanguageModelInput,\n\u001B[32m   (...)\u001B[39m\u001B[32m    381\u001B[39m     **kwargs: Any,\n\u001B[32m    382\u001B[39m ) -> \u001B[38;5;28mstr\u001B[39m:\n\u001B[32m    383\u001B[39m     config = ensure_config(config)\n\u001B[32m    384\u001B[39m     \u001B[38;5;28;01mreturn\u001B[39;00m (\n\u001B[32m--> \u001B[39m\u001B[32m385\u001B[39m         \u001B[38;5;28mself\u001B[39m.generate_prompt(\n\u001B[32m    386\u001B[39m             [\u001B[38;5;28mself\u001B[39m._convert_input(\u001B[38;5;28minput\u001B[39m)],\n\u001B[32m    387\u001B[39m             stop=stop,\n\u001B[32m    388\u001B[39m             callbacks=config.get(\u001B[33m\"\u001B[39m\u001B[33mcallbacks\u001B[39m\u001B[33m\"\u001B[39m),\n\u001B[32m    389\u001B[39m             tags=config.get(\u001B[33m\"\u001B[39m\u001B[33mtags\u001B[39m\u001B[33m\"\u001B[39m),\n\u001B[32m    390\u001B[39m             metadata=config.get(\u001B[33m\"\u001B[39m\u001B[33mmetadata\u001B[39m\u001B[33m\"\u001B[39m),\n\u001B[32m    391\u001B[39m             run_name=config.get(\u001B[33m\"\u001B[39m\u001B[33mrun_name\u001B[39m\u001B[33m\"\u001B[39m),\n\u001B[32m    392\u001B[39m             run_id=config.pop(\u001B[33m\"\u001B[39m\u001B[33mrun_id\u001B[39m\u001B[33m\"\u001B[39m, \u001B[38;5;28;01mNone\u001B[39;00m),\n\u001B[32m    393\u001B[39m             **kwargs,\n\u001B[32m    394\u001B[39m         )\n\u001B[32m    395\u001B[39m         .generations[\u001B[32m0\u001B[39m][\u001B[32m0\u001B[39m]\n\u001B[32m    396\u001B[39m         .text\n\u001B[32m    397\u001B[39m     )\n",
      "\u001B[36mFile \u001B[39m\u001B[32m~/miniconda3/envs/vanir/lib/python3.11/site-packages/langchain_core/language_models/llms.py:750\u001B[39m, in \u001B[36mBaseLLM.generate_prompt\u001B[39m\u001B[34m(self, prompts, stop, callbacks, **kwargs)\u001B[39m\n\u001B[32m    742\u001B[39m \u001B[38;5;28;01mdef\u001B[39;00m\u001B[38;5;250m \u001B[39m\u001B[34mgenerate_prompt\u001B[39m(\n\u001B[32m    743\u001B[39m     \u001B[38;5;28mself\u001B[39m,\n\u001B[32m    744\u001B[39m     prompts: List[PromptValue],\n\u001B[32m   (...)\u001B[39m\u001B[32m    747\u001B[39m     **kwargs: Any,\n\u001B[32m    748\u001B[39m ) -> LLMResult:\n\u001B[32m    749\u001B[39m     prompt_strings = [p.to_string() \u001B[38;5;28;01mfor\u001B[39;00m p \u001B[38;5;129;01min\u001B[39;00m prompts]\n\u001B[32m--> \u001B[39m\u001B[32m750\u001B[39m     \u001B[38;5;28;01mreturn\u001B[39;00m \u001B[38;5;28mself\u001B[39m.generate(prompt_strings, stop=stop, callbacks=callbacks, **kwargs)\n",
      "\u001B[36mFile \u001B[39m\u001B[32m~/miniconda3/envs/vanir/lib/python3.11/site-packages/langchain_core/language_models/llms.py:944\u001B[39m, in \u001B[36mBaseLLM.generate\u001B[39m\u001B[34m(self, prompts, stop, callbacks, tags, metadata, run_name, run_id, **kwargs)\u001B[39m\n\u001B[32m    929\u001B[39m \u001B[38;5;28;01mif\u001B[39;00m (\u001B[38;5;28mself\u001B[39m.cache \u001B[38;5;129;01mis\u001B[39;00m \u001B[38;5;28;01mNone\u001B[39;00m \u001B[38;5;129;01mand\u001B[39;00m get_llm_cache() \u001B[38;5;129;01mis\u001B[39;00m \u001B[38;5;28;01mNone\u001B[39;00m) \u001B[38;5;129;01mor\u001B[39;00m \u001B[38;5;28mself\u001B[39m.cache \u001B[38;5;129;01mis\u001B[39;00m \u001B[38;5;28;01mFalse\u001B[39;00m:\n\u001B[32m    930\u001B[39m     run_managers = [\n\u001B[32m    931\u001B[39m         callback_manager.on_llm_start(\n\u001B[32m    932\u001B[39m             dumpd(\u001B[38;5;28mself\u001B[39m),\n\u001B[32m   (...)\u001B[39m\u001B[32m    942\u001B[39m         )\n\u001B[32m    943\u001B[39m     ]\n\u001B[32m--> \u001B[39m\u001B[32m944\u001B[39m     output = \u001B[38;5;28mself\u001B[39m._generate_helper(\n\u001B[32m    945\u001B[39m         prompts, stop, run_managers, \u001B[38;5;28mbool\u001B[39m(new_arg_supported), **kwargs\n\u001B[32m    946\u001B[39m     )\n\u001B[32m    947\u001B[39m     \u001B[38;5;28;01mreturn\u001B[39;00m output\n\u001B[32m    948\u001B[39m \u001B[38;5;28;01mif\u001B[39;00m \u001B[38;5;28mlen\u001B[39m(missing_prompts) > \u001B[32m0\u001B[39m:\n",
      "\u001B[36mFile \u001B[39m\u001B[32m~/miniconda3/envs/vanir/lib/python3.11/site-packages/langchain_core/language_models/llms.py:787\u001B[39m, in \u001B[36mBaseLLM._generate_helper\u001B[39m\u001B[34m(self, prompts, stop, run_managers, new_arg_supported, **kwargs)\u001B[39m\n\u001B[32m    785\u001B[39m     \u001B[38;5;28;01mfor\u001B[39;00m run_manager \u001B[38;5;129;01min\u001B[39;00m run_managers:\n\u001B[32m    786\u001B[39m         run_manager.on_llm_error(e, response=LLMResult(generations=[]))\n\u001B[32m--> \u001B[39m\u001B[32m787\u001B[39m     \u001B[38;5;28;01mraise\u001B[39;00m e\n\u001B[32m    788\u001B[39m flattened_outputs = output.flatten()\n\u001B[32m    789\u001B[39m \u001B[38;5;28;01mfor\u001B[39;00m manager, flattened_output \u001B[38;5;129;01min\u001B[39;00m \u001B[38;5;28mzip\u001B[39m(run_managers, flattened_outputs):\n",
      "\u001B[36mFile \u001B[39m\u001B[32m~/miniconda3/envs/vanir/lib/python3.11/site-packages/langchain_core/language_models/llms.py:774\u001B[39m, in \u001B[36mBaseLLM._generate_helper\u001B[39m\u001B[34m(self, prompts, stop, run_managers, new_arg_supported, **kwargs)\u001B[39m\n\u001B[32m    764\u001B[39m \u001B[38;5;28;01mdef\u001B[39;00m\u001B[38;5;250m \u001B[39m\u001B[34m_generate_helper\u001B[39m(\n\u001B[32m    765\u001B[39m     \u001B[38;5;28mself\u001B[39m,\n\u001B[32m    766\u001B[39m     prompts: List[\u001B[38;5;28mstr\u001B[39m],\n\u001B[32m   (...)\u001B[39m\u001B[32m    770\u001B[39m     **kwargs: Any,\n\u001B[32m    771\u001B[39m ) -> LLMResult:\n\u001B[32m    772\u001B[39m     \u001B[38;5;28;01mtry\u001B[39;00m:\n\u001B[32m    773\u001B[39m         output = (\n\u001B[32m--> \u001B[39m\u001B[32m774\u001B[39m             \u001B[38;5;28mself\u001B[39m._generate(\n\u001B[32m    775\u001B[39m                 prompts,\n\u001B[32m    776\u001B[39m                 stop=stop,\n\u001B[32m    777\u001B[39m                 \u001B[38;5;66;03m# TODO: support multiple run managers\u001B[39;00m\n\u001B[32m    778\u001B[39m                 run_manager=run_managers[\u001B[32m0\u001B[39m] \u001B[38;5;28;01mif\u001B[39;00m run_managers \u001B[38;5;28;01melse\u001B[39;00m \u001B[38;5;28;01mNone\u001B[39;00m,\n\u001B[32m    779\u001B[39m                 **kwargs,\n\u001B[32m    780\u001B[39m             )\n\u001B[32m    781\u001B[39m             \u001B[38;5;28;01mif\u001B[39;00m new_arg_supported\n\u001B[32m    782\u001B[39m             \u001B[38;5;28;01melse\u001B[39;00m \u001B[38;5;28mself\u001B[39m._generate(prompts, stop=stop)\n\u001B[32m    783\u001B[39m         )\n\u001B[32m    784\u001B[39m     \u001B[38;5;28;01mexcept\u001B[39;00m \u001B[38;5;167;01mBaseException\u001B[39;00m \u001B[38;5;28;01mas\u001B[39;00m e:\n\u001B[32m    785\u001B[39m         \u001B[38;5;28;01mfor\u001B[39;00m run_manager \u001B[38;5;129;01min\u001B[39;00m run_managers:\n",
      "\u001B[36mFile \u001B[39m\u001B[32m~/miniconda3/envs/vanir/lib/python3.11/site-packages/langchain_core/language_models/llms.py:1508\u001B[39m, in \u001B[36mLLM._generate\u001B[39m\u001B[34m(self, prompts, stop, run_manager, **kwargs)\u001B[39m\n\u001B[32m   1505\u001B[39m new_arg_supported = inspect.signature(\u001B[38;5;28mself\u001B[39m._call).parameters.get(\u001B[33m\"\u001B[39m\u001B[33mrun_manager\u001B[39m\u001B[33m\"\u001B[39m)\n\u001B[32m   1506\u001B[39m \u001B[38;5;28;01mfor\u001B[39;00m prompt \u001B[38;5;129;01min\u001B[39;00m prompts:\n\u001B[32m   1507\u001B[39m     text = (\n\u001B[32m-> \u001B[39m\u001B[32m1508\u001B[39m         \u001B[38;5;28mself\u001B[39m._call(prompt, stop=stop, run_manager=run_manager, **kwargs)\n\u001B[32m   1509\u001B[39m         \u001B[38;5;28;01mif\u001B[39;00m new_arg_supported\n\u001B[32m   1510\u001B[39m         \u001B[38;5;28;01melse\u001B[39;00m \u001B[38;5;28mself\u001B[39m._call(prompt, stop=stop, **kwargs)\n\u001B[32m   1511\u001B[39m     )\n\u001B[32m   1512\u001B[39m     generations.append([Generation(text=text)])\n\u001B[32m   1513\u001B[39m \u001B[38;5;28;01mreturn\u001B[39;00m LLMResult(generations=generations)\n",
      "\u001B[36mFile \u001B[39m\u001B[32m~/miniconda3/envs/vanir/lib/python3.11/site-packages/langchain_cohere/llms.py:213\u001B[39m, in \u001B[36mCohere._call\u001B[39m\u001B[34m(self, prompt, stop, run_manager, **kwargs)\u001B[39m\n\u001B[32m    198\u001B[39m \u001B[38;5;250m\u001B[39m\u001B[33;03m\"\"\"Call out to Cohere's generate endpoint.\u001B[39;00m\n\u001B[32m    199\u001B[39m \n\u001B[32m    200\u001B[39m \u001B[33;03mArgs:\u001B[39;00m\n\u001B[32m   (...)\u001B[39m\u001B[32m    210\u001B[39m \u001B[33;03m        response = cohere(\"Tell me a joke.\")\u001B[39;00m\n\u001B[32m    211\u001B[39m \u001B[33;03m\"\"\"\u001B[39;00m\n\u001B[32m    212\u001B[39m params = \u001B[38;5;28mself\u001B[39m._invocation_params(stop, **kwargs)\n\u001B[32m--> \u001B[39m\u001B[32m213\u001B[39m response = completion_with_retry(\n\u001B[32m    214\u001B[39m     \u001B[38;5;28mself\u001B[39m, model=\u001B[38;5;28mself\u001B[39m.model, prompt=prompt, **params\n\u001B[32m    215\u001B[39m )\n\u001B[32m    216\u001B[39m _stop = params.get(\u001B[33m\"\u001B[39m\u001B[33mstop_sequences\u001B[39m\u001B[33m\"\u001B[39m)\n\u001B[32m    217\u001B[39m \u001B[38;5;28;01mreturn\u001B[39;00m \u001B[38;5;28mself\u001B[39m._process_response(response, _stop)\n",
      "\u001B[36mFile \u001B[39m\u001B[32m~/miniconda3/envs/vanir/lib/python3.11/site-packages/langchain_cohere/llms.py:36\u001B[39m, in \u001B[36mcompletion_with_retry\u001B[39m\u001B[34m(llm, **kwargs)\u001B[39m\n\u001B[32m     32\u001B[39m \u001B[38;5;129m@retry_decorator\u001B[39m\n\u001B[32m     33\u001B[39m \u001B[38;5;28;01mdef\u001B[39;00m\u001B[38;5;250m \u001B[39m\u001B[34m_completion_with_retry\u001B[39m(**kwargs: Any) -> Any:\n\u001B[32m     34\u001B[39m     \u001B[38;5;28;01mreturn\u001B[39;00m llm.client.generate(**kwargs)\n\u001B[32m---> \u001B[39m\u001B[32m36\u001B[39m \u001B[38;5;28;01mreturn\u001B[39;00m _completion_with_retry(**kwargs)\n",
      "\u001B[36mFile \u001B[39m\u001B[32m~/miniconda3/envs/vanir/lib/python3.11/site-packages/tenacity/__init__.py:336\u001B[39m, in \u001B[36mBaseRetrying.wraps.<locals>.wrapped_f\u001B[39m\u001B[34m(*args, **kw)\u001B[39m\n\u001B[32m    334\u001B[39m copy = \u001B[38;5;28mself\u001B[39m.copy()\n\u001B[32m    335\u001B[39m wrapped_f.statistics = copy.statistics  \u001B[38;5;66;03m# type: ignore[attr-defined]\u001B[39;00m\n\u001B[32m--> \u001B[39m\u001B[32m336\u001B[39m \u001B[38;5;28;01mreturn\u001B[39;00m copy(f, *args, **kw)\n",
      "\u001B[36mFile \u001B[39m\u001B[32m~/miniconda3/envs/vanir/lib/python3.11/site-packages/tenacity/__init__.py:475\u001B[39m, in \u001B[36mRetrying.__call__\u001B[39m\u001B[34m(self, fn, *args, **kwargs)\u001B[39m\n\u001B[32m    473\u001B[39m retry_state = RetryCallState(retry_object=\u001B[38;5;28mself\u001B[39m, fn=fn, args=args, kwargs=kwargs)\n\u001B[32m    474\u001B[39m \u001B[38;5;28;01mwhile\u001B[39;00m \u001B[38;5;28;01mTrue\u001B[39;00m:\n\u001B[32m--> \u001B[39m\u001B[32m475\u001B[39m     do = \u001B[38;5;28mself\u001B[39m.iter(retry_state=retry_state)\n\u001B[32m    476\u001B[39m     \u001B[38;5;28;01mif\u001B[39;00m \u001B[38;5;28misinstance\u001B[39m(do, DoAttempt):\n\u001B[32m    477\u001B[39m         \u001B[38;5;28;01mtry\u001B[39;00m:\n",
      "\u001B[36mFile \u001B[39m\u001B[32m~/miniconda3/envs/vanir/lib/python3.11/site-packages/tenacity/__init__.py:376\u001B[39m, in \u001B[36mBaseRetrying.iter\u001B[39m\u001B[34m(self, retry_state)\u001B[39m\n\u001B[32m    374\u001B[39m result = \u001B[38;5;28;01mNone\u001B[39;00m\n\u001B[32m    375\u001B[39m \u001B[38;5;28;01mfor\u001B[39;00m action \u001B[38;5;129;01min\u001B[39;00m \u001B[38;5;28mself\u001B[39m.iter_state.actions:\n\u001B[32m--> \u001B[39m\u001B[32m376\u001B[39m     result = action(retry_state)\n\u001B[32m    377\u001B[39m \u001B[38;5;28;01mreturn\u001B[39;00m result\n",
      "\u001B[36mFile \u001B[39m\u001B[32m~/miniconda3/envs/vanir/lib/python3.11/site-packages/tenacity/__init__.py:398\u001B[39m, in \u001B[36mBaseRetrying._post_retry_check_actions.<locals>.<lambda>\u001B[39m\u001B[34m(rs)\u001B[39m\n\u001B[32m    396\u001B[39m \u001B[38;5;28;01mdef\u001B[39;00m\u001B[38;5;250m \u001B[39m\u001B[34m_post_retry_check_actions\u001B[39m(\u001B[38;5;28mself\u001B[39m, retry_state: \u001B[33m\"\u001B[39m\u001B[33mRetryCallState\u001B[39m\u001B[33m\"\u001B[39m) -> \u001B[38;5;28;01mNone\u001B[39;00m:\n\u001B[32m    397\u001B[39m     \u001B[38;5;28;01mif\u001B[39;00m \u001B[38;5;129;01mnot\u001B[39;00m (\u001B[38;5;28mself\u001B[39m.iter_state.is_explicit_retry \u001B[38;5;129;01mor\u001B[39;00m \u001B[38;5;28mself\u001B[39m.iter_state.retry_run_result):\n\u001B[32m--> \u001B[39m\u001B[32m398\u001B[39m         \u001B[38;5;28mself\u001B[39m._add_action_func(\u001B[38;5;28;01mlambda\u001B[39;00m rs: rs.outcome.result())\n\u001B[32m    399\u001B[39m         \u001B[38;5;28;01mreturn\u001B[39;00m\n\u001B[32m    401\u001B[39m     \u001B[38;5;28;01mif\u001B[39;00m \u001B[38;5;28mself\u001B[39m.after \u001B[38;5;129;01mis\u001B[39;00m \u001B[38;5;129;01mnot\u001B[39;00m \u001B[38;5;28;01mNone\u001B[39;00m:\n",
      "\u001B[36mFile \u001B[39m\u001B[32m~/miniconda3/envs/vanir/lib/python3.11/concurrent/futures/_base.py:449\u001B[39m, in \u001B[36mFuture.result\u001B[39m\u001B[34m(self, timeout)\u001B[39m\n\u001B[32m    447\u001B[39m     \u001B[38;5;28;01mraise\u001B[39;00m CancelledError()\n\u001B[32m    448\u001B[39m \u001B[38;5;28;01melif\u001B[39;00m \u001B[38;5;28mself\u001B[39m._state == FINISHED:\n\u001B[32m--> \u001B[39m\u001B[32m449\u001B[39m     \u001B[38;5;28;01mreturn\u001B[39;00m \u001B[38;5;28mself\u001B[39m.__get_result()\n\u001B[32m    451\u001B[39m \u001B[38;5;28mself\u001B[39m._condition.wait(timeout)\n\u001B[32m    453\u001B[39m \u001B[38;5;28;01mif\u001B[39;00m \u001B[38;5;28mself\u001B[39m._state \u001B[38;5;129;01min\u001B[39;00m [CANCELLED, CANCELLED_AND_NOTIFIED]:\n",
      "\u001B[36mFile \u001B[39m\u001B[32m~/miniconda3/envs/vanir/lib/python3.11/concurrent/futures/_base.py:401\u001B[39m, in \u001B[36mFuture.__get_result\u001B[39m\u001B[34m(self)\u001B[39m\n\u001B[32m    399\u001B[39m \u001B[38;5;28;01mif\u001B[39;00m \u001B[38;5;28mself\u001B[39m._exception:\n\u001B[32m    400\u001B[39m     \u001B[38;5;28;01mtry\u001B[39;00m:\n\u001B[32m--> \u001B[39m\u001B[32m401\u001B[39m         \u001B[38;5;28;01mraise\u001B[39;00m \u001B[38;5;28mself\u001B[39m._exception\n\u001B[32m    402\u001B[39m     \u001B[38;5;28;01mfinally\u001B[39;00m:\n\u001B[32m    403\u001B[39m         \u001B[38;5;66;03m# Break a reference cycle with the exception in self._exception\u001B[39;00m\n\u001B[32m    404\u001B[39m         \u001B[38;5;28mself\u001B[39m = \u001B[38;5;28;01mNone\u001B[39;00m\n",
      "\u001B[36mFile \u001B[39m\u001B[32m~/miniconda3/envs/vanir/lib/python3.11/site-packages/tenacity/__init__.py:478\u001B[39m, in \u001B[36mRetrying.__call__\u001B[39m\u001B[34m(self, fn, *args, **kwargs)\u001B[39m\n\u001B[32m    476\u001B[39m \u001B[38;5;28;01mif\u001B[39;00m \u001B[38;5;28misinstance\u001B[39m(do, DoAttempt):\n\u001B[32m    477\u001B[39m     \u001B[38;5;28;01mtry\u001B[39;00m:\n\u001B[32m--> \u001B[39m\u001B[32m478\u001B[39m         result = fn(*args, **kwargs)\n\u001B[32m    479\u001B[39m     \u001B[38;5;28;01mexcept\u001B[39;00m \u001B[38;5;167;01mBaseException\u001B[39;00m:  \u001B[38;5;66;03m# noqa: B902\u001B[39;00m\n\u001B[32m    480\u001B[39m         retry_state.set_exception(sys.exc_info())  \u001B[38;5;66;03m# type: ignore[arg-type]\u001B[39;00m\n",
      "\u001B[36mFile \u001B[39m\u001B[32m~/miniconda3/envs/vanir/lib/python3.11/site-packages/langchain_cohere/llms.py:34\u001B[39m, in \u001B[36mcompletion_with_retry.<locals>._completion_with_retry\u001B[39m\u001B[34m(**kwargs)\u001B[39m\n\u001B[32m     32\u001B[39m \u001B[38;5;129m@retry_decorator\u001B[39m\n\u001B[32m     33\u001B[39m \u001B[38;5;28;01mdef\u001B[39;00m\u001B[38;5;250m \u001B[39m\u001B[34m_completion_with_retry\u001B[39m(**kwargs: Any) -> Any:\n\u001B[32m---> \u001B[39m\u001B[32m34\u001B[39m     \u001B[38;5;28;01mreturn\u001B[39;00m llm.client.generate(**kwargs)\n",
      "\u001B[36mFile \u001B[39m\u001B[32m~/miniconda3/envs/vanir/lib/python3.11/site-packages/cohere/base_client.py:1564\u001B[39m, in \u001B[36mBaseCohere.generate\u001B[39m\u001B[34m(self, prompt, model, num_generations, max_tokens, truncate, temperature, seed, preset, end_sequences, stop_sequences, k, p, frequency_penalty, presence_penalty, return_likelihoods, raw_prompting, request_options)\u001B[39m\n\u001B[32m   1429\u001B[39m \u001B[38;5;28;01mdef\u001B[39;00m\u001B[38;5;250m \u001B[39m\u001B[34mgenerate\u001B[39m(\n\u001B[32m   1430\u001B[39m     \u001B[38;5;28mself\u001B[39m,\n\u001B[32m   1431\u001B[39m     *,\n\u001B[32m   (...)\u001B[39m\u001B[32m   1448\u001B[39m     request_options: typing.Optional[RequestOptions] = \u001B[38;5;28;01mNone\u001B[39;00m,\n\u001B[32m   1449\u001B[39m ) -> Generation:\n\u001B[32m   1450\u001B[39m \u001B[38;5;250m    \u001B[39m\u001B[33;03m\"\"\"\u001B[39;00m\n\u001B[32m   1451\u001B[39m \u001B[33;03m    <Warning>\u001B[39;00m\n\u001B[32m   1452\u001B[39m \u001B[33;03m    This API is marked as \"Legacy\" and is no longer maintained. Follow the [migration guide](https://docs.cohere.com/docs/migrating-from-cogenerate-to-cochat) to start using the Chat API.\u001B[39;00m\n\u001B[32m   (...)\u001B[39m\u001B[32m   1562\u001B[39m \u001B[33;03m    )\u001B[39;00m\n\u001B[32m   1563\u001B[39m \u001B[33;03m    \"\"\"\u001B[39;00m\n\u001B[32m-> \u001B[39m\u001B[32m1564\u001B[39m     _response = \u001B[38;5;28mself\u001B[39m._client_wrapper.httpx_client.request(\n\u001B[32m   1565\u001B[39m         \u001B[33m\"\u001B[39m\u001B[33mv1/generate\u001B[39m\u001B[33m\"\u001B[39m,\n\u001B[32m   1566\u001B[39m         method=\u001B[33m\"\u001B[39m\u001B[33mPOST\u001B[39m\u001B[33m\"\u001B[39m,\n\u001B[32m   1567\u001B[39m         json={\n\u001B[32m   1568\u001B[39m             \u001B[33m\"\u001B[39m\u001B[33mprompt\u001B[39m\u001B[33m\"\u001B[39m: prompt,\n\u001B[32m   1569\u001B[39m             \u001B[33m\"\u001B[39m\u001B[33mmodel\u001B[39m\u001B[33m\"\u001B[39m: model,\n\u001B[32m   1570\u001B[39m             \u001B[33m\"\u001B[39m\u001B[33mnum_generations\u001B[39m\u001B[33m\"\u001B[39m: num_generations,\n\u001B[32m   1571\u001B[39m             \u001B[33m\"\u001B[39m\u001B[33mmax_tokens\u001B[39m\u001B[33m\"\u001B[39m: max_tokens,\n\u001B[32m   1572\u001B[39m             \u001B[33m\"\u001B[39m\u001B[33mtruncate\u001B[39m\u001B[33m\"\u001B[39m: truncate,\n\u001B[32m   1573\u001B[39m             \u001B[33m\"\u001B[39m\u001B[33mtemperature\u001B[39m\u001B[33m\"\u001B[39m: temperature,\n\u001B[32m   1574\u001B[39m             \u001B[33m\"\u001B[39m\u001B[33mseed\u001B[39m\u001B[33m\"\u001B[39m: seed,\n\u001B[32m   1575\u001B[39m             \u001B[33m\"\u001B[39m\u001B[33mpreset\u001B[39m\u001B[33m\"\u001B[39m: preset,\n\u001B[32m   1576\u001B[39m             \u001B[33m\"\u001B[39m\u001B[33mend_sequences\u001B[39m\u001B[33m\"\u001B[39m: end_sequences,\n\u001B[32m   1577\u001B[39m             \u001B[33m\"\u001B[39m\u001B[33mstop_sequences\u001B[39m\u001B[33m\"\u001B[39m: stop_sequences,\n\u001B[32m   1578\u001B[39m             \u001B[33m\"\u001B[39m\u001B[33mk\u001B[39m\u001B[33m\"\u001B[39m: k,\n\u001B[32m   1579\u001B[39m             \u001B[33m\"\u001B[39m\u001B[33mp\u001B[39m\u001B[33m\"\u001B[39m: p,\n\u001B[32m   1580\u001B[39m             \u001B[33m\"\u001B[39m\u001B[33mfrequency_penalty\u001B[39m\u001B[33m\"\u001B[39m: frequency_penalty,\n\u001B[32m   1581\u001B[39m             \u001B[33m\"\u001B[39m\u001B[33mpresence_penalty\u001B[39m\u001B[33m\"\u001B[39m: presence_penalty,\n\u001B[32m   1582\u001B[39m             \u001B[33m\"\u001B[39m\u001B[33mreturn_likelihoods\u001B[39m\u001B[33m\"\u001B[39m: return_likelihoods,\n\u001B[32m   1583\u001B[39m             \u001B[33m\"\u001B[39m\u001B[33mraw_prompting\u001B[39m\u001B[33m\"\u001B[39m: raw_prompting,\n\u001B[32m   1584\u001B[39m             \u001B[33m\"\u001B[39m\u001B[33mstream\u001B[39m\u001B[33m\"\u001B[39m: \u001B[38;5;28;01mFalse\u001B[39;00m,\n\u001B[32m   1585\u001B[39m         },\n\u001B[32m   1586\u001B[39m         headers={\n\u001B[32m   1587\u001B[39m             \u001B[33m\"\u001B[39m\u001B[33mcontent-type\u001B[39m\u001B[33m\"\u001B[39m: \u001B[33m\"\u001B[39m\u001B[33mapplication/json\u001B[39m\u001B[33m\"\u001B[39m,\n\u001B[32m   1588\u001B[39m         },\n\u001B[32m   1589\u001B[39m         request_options=request_options,\n\u001B[32m   1590\u001B[39m         omit=OMIT,\n\u001B[32m   1591\u001B[39m     )\n\u001B[32m   1592\u001B[39m     \u001B[38;5;28;01mtry\u001B[39;00m:\n\u001B[32m   1593\u001B[39m         \u001B[38;5;28;01mif\u001B[39;00m \u001B[32m200\u001B[39m <= _response.status_code < \u001B[32m300\u001B[39m:\n",
      "\u001B[36mFile \u001B[39m\u001B[32m~/miniconda3/envs/vanir/lib/python3.11/site-packages/cohere/core/http_client.py:198\u001B[39m, in \u001B[36mHttpClient.request\u001B[39m\u001B[34m(self, path, method, base_url, params, json, data, content, files, headers, request_options, retries, omit)\u001B[39m\n\u001B[32m    190\u001B[39m timeout = (\n\u001B[32m    191\u001B[39m     request_options.get(\u001B[33m\"\u001B[39m\u001B[33mtimeout_in_seconds\u001B[39m\u001B[33m\"\u001B[39m)\n\u001B[32m    192\u001B[39m     \u001B[38;5;28;01mif\u001B[39;00m request_options \u001B[38;5;129;01mis\u001B[39;00m \u001B[38;5;129;01mnot\u001B[39;00m \u001B[38;5;28;01mNone\u001B[39;00m \u001B[38;5;129;01mand\u001B[39;00m request_options.get(\u001B[33m\"\u001B[39m\u001B[33mtimeout_in_seconds\u001B[39m\u001B[33m\"\u001B[39m) \u001B[38;5;129;01mis\u001B[39;00m \u001B[38;5;129;01mnot\u001B[39;00m \u001B[38;5;28;01mNone\u001B[39;00m\n\u001B[32m    193\u001B[39m     \u001B[38;5;28;01melse\u001B[39;00m \u001B[38;5;28mself\u001B[39m.base_timeout()\n\u001B[32m    194\u001B[39m )\n\u001B[32m    196\u001B[39m json_body, data_body = get_request_body(json=json, data=data, request_options=request_options, omit=omit)\n\u001B[32m--> \u001B[39m\u001B[32m198\u001B[39m response = \u001B[38;5;28mself\u001B[39m.httpx_client.request(\n\u001B[32m    199\u001B[39m     method=method,\n\u001B[32m    200\u001B[39m     url=urllib.parse.urljoin(\u001B[33mf\u001B[39m\u001B[33m\"\u001B[39m\u001B[38;5;132;01m{\u001B[39;00mbase_url\u001B[38;5;132;01m}\u001B[39;00m\u001B[33m/\u001B[39m\u001B[33m\"\u001B[39m, path),\n\u001B[32m    201\u001B[39m     headers=jsonable_encoder(\n\u001B[32m    202\u001B[39m         remove_none_from_dict(\n\u001B[32m    203\u001B[39m             {\n\u001B[32m    204\u001B[39m                 **\u001B[38;5;28mself\u001B[39m.base_headers(),\n\u001B[32m    205\u001B[39m                 **(headers \u001B[38;5;28;01mif\u001B[39;00m headers \u001B[38;5;129;01mis\u001B[39;00m \u001B[38;5;129;01mnot\u001B[39;00m \u001B[38;5;28;01mNone\u001B[39;00m \u001B[38;5;28;01melse\u001B[39;00m {}),\n\u001B[32m    206\u001B[39m                 **(request_options.get(\u001B[33m\"\u001B[39m\u001B[33madditional_headers\u001B[39m\u001B[33m\"\u001B[39m, {}) \u001B[38;5;129;01mor\u001B[39;00m {} \u001B[38;5;28;01mif\u001B[39;00m request_options \u001B[38;5;129;01mis\u001B[39;00m \u001B[38;5;129;01mnot\u001B[39;00m \u001B[38;5;28;01mNone\u001B[39;00m \u001B[38;5;28;01melse\u001B[39;00m {}),\n\u001B[32m    207\u001B[39m             }\n\u001B[32m    208\u001B[39m         )\n\u001B[32m    209\u001B[39m     ),\n\u001B[32m    210\u001B[39m     params=encode_query(\n\u001B[32m    211\u001B[39m         jsonable_encoder(\n\u001B[32m    212\u001B[39m             remove_none_from_dict(\n\u001B[32m    213\u001B[39m                 remove_omit_from_dict(\n\u001B[32m    214\u001B[39m                     {\n\u001B[32m    215\u001B[39m                         **(params \u001B[38;5;28;01mif\u001B[39;00m params \u001B[38;5;129;01mis\u001B[39;00m \u001B[38;5;129;01mnot\u001B[39;00m \u001B[38;5;28;01mNone\u001B[39;00m \u001B[38;5;28;01melse\u001B[39;00m {}),\n\u001B[32m    216\u001B[39m                         **(\n\u001B[32m    217\u001B[39m                             request_options.get(\u001B[33m\"\u001B[39m\u001B[33madditional_query_parameters\u001B[39m\u001B[33m\"\u001B[39m, {}) \u001B[38;5;129;01mor\u001B[39;00m {}\n\u001B[32m    218\u001B[39m                             \u001B[38;5;28;01mif\u001B[39;00m request_options \u001B[38;5;129;01mis\u001B[39;00m \u001B[38;5;129;01mnot\u001B[39;00m \u001B[38;5;28;01mNone\u001B[39;00m\n\u001B[32m    219\u001B[39m                             \u001B[38;5;28;01melse\u001B[39;00m {}\n\u001B[32m    220\u001B[39m                         ),\n\u001B[32m    221\u001B[39m                     },\n\u001B[32m    222\u001B[39m                     omit,\n\u001B[32m    223\u001B[39m                 )\n\u001B[32m    224\u001B[39m             )\n\u001B[32m    225\u001B[39m         )\n\u001B[32m    226\u001B[39m     ),\n\u001B[32m    227\u001B[39m     json=json_body,\n\u001B[32m    228\u001B[39m     data=data_body,\n\u001B[32m    229\u001B[39m     content=content,\n\u001B[32m    230\u001B[39m     files=(\n\u001B[32m    231\u001B[39m         convert_file_dict_to_httpx_tuples(remove_omit_from_dict(remove_none_from_dict(files), omit))\n\u001B[32m    232\u001B[39m         \u001B[38;5;28;01mif\u001B[39;00m (files \u001B[38;5;129;01mis\u001B[39;00m \u001B[38;5;129;01mnot\u001B[39;00m \u001B[38;5;28;01mNone\u001B[39;00m \u001B[38;5;129;01mand\u001B[39;00m files \u001B[38;5;129;01mis\u001B[39;00m \u001B[38;5;129;01mnot\u001B[39;00m omit)\n\u001B[32m    233\u001B[39m         \u001B[38;5;28;01melse\u001B[39;00m \u001B[38;5;28;01mNone\u001B[39;00m\n\u001B[32m    234\u001B[39m     ),\n\u001B[32m    235\u001B[39m     timeout=timeout,\n\u001B[32m    236\u001B[39m )\n\u001B[32m    238\u001B[39m max_retries: \u001B[38;5;28mint\u001B[39m = request_options.get(\u001B[33m\"\u001B[39m\u001B[33mmax_retries\u001B[39m\u001B[33m\"\u001B[39m, \u001B[32m0\u001B[39m) \u001B[38;5;28;01mif\u001B[39;00m request_options \u001B[38;5;129;01mis\u001B[39;00m \u001B[38;5;129;01mnot\u001B[39;00m \u001B[38;5;28;01mNone\u001B[39;00m \u001B[38;5;28;01melse\u001B[39;00m \u001B[32m0\u001B[39m\n\u001B[32m    239\u001B[39m \u001B[38;5;28;01mif\u001B[39;00m _should_retry(response=response):\n",
      "\u001B[36mFile \u001B[39m\u001B[32m~/miniconda3/envs/vanir/lib/python3.11/site-packages/httpx/_client.py:825\u001B[39m, in \u001B[36mClient.request\u001B[39m\u001B[34m(self, method, url, content, data, files, json, params, headers, cookies, auth, follow_redirects, timeout, extensions)\u001B[39m\n\u001B[32m    810\u001B[39m     warnings.warn(message, \u001B[38;5;167;01mDeprecationWarning\u001B[39;00m, stacklevel=\u001B[32m2\u001B[39m)\n\u001B[32m    812\u001B[39m request = \u001B[38;5;28mself\u001B[39m.build_request(\n\u001B[32m    813\u001B[39m     method=method,\n\u001B[32m    814\u001B[39m     url=url,\n\u001B[32m   (...)\u001B[39m\u001B[32m    823\u001B[39m     extensions=extensions,\n\u001B[32m    824\u001B[39m )\n\u001B[32m--> \u001B[39m\u001B[32m825\u001B[39m \u001B[38;5;28;01mreturn\u001B[39;00m \u001B[38;5;28mself\u001B[39m.send(request, auth=auth, follow_redirects=follow_redirects)\n",
      "\u001B[36mFile \u001B[39m\u001B[32m~/miniconda3/envs/vanir/lib/python3.11/site-packages/httpx/_client.py:914\u001B[39m, in \u001B[36mClient.send\u001B[39m\u001B[34m(self, request, stream, auth, follow_redirects)\u001B[39m\n\u001B[32m    910\u001B[39m \u001B[38;5;28mself\u001B[39m._set_timeout(request)\n\u001B[32m    912\u001B[39m auth = \u001B[38;5;28mself\u001B[39m._build_request_auth(request, auth)\n\u001B[32m--> \u001B[39m\u001B[32m914\u001B[39m response = \u001B[38;5;28mself\u001B[39m._send_handling_auth(\n\u001B[32m    915\u001B[39m     request,\n\u001B[32m    916\u001B[39m     auth=auth,\n\u001B[32m    917\u001B[39m     follow_redirects=follow_redirects,\n\u001B[32m    918\u001B[39m     history=[],\n\u001B[32m    919\u001B[39m )\n\u001B[32m    920\u001B[39m \u001B[38;5;28;01mtry\u001B[39;00m:\n\u001B[32m    921\u001B[39m     \u001B[38;5;28;01mif\u001B[39;00m \u001B[38;5;129;01mnot\u001B[39;00m stream:\n",
      "\u001B[36mFile \u001B[39m\u001B[32m~/miniconda3/envs/vanir/lib/python3.11/site-packages/httpx/_client.py:942\u001B[39m, in \u001B[36mClient._send_handling_auth\u001B[39m\u001B[34m(self, request, auth, follow_redirects, history)\u001B[39m\n\u001B[32m    939\u001B[39m request = \u001B[38;5;28mnext\u001B[39m(auth_flow)\n\u001B[32m    941\u001B[39m \u001B[38;5;28;01mwhile\u001B[39;00m \u001B[38;5;28;01mTrue\u001B[39;00m:\n\u001B[32m--> \u001B[39m\u001B[32m942\u001B[39m     response = \u001B[38;5;28mself\u001B[39m._send_handling_redirects(\n\u001B[32m    943\u001B[39m         request,\n\u001B[32m    944\u001B[39m         follow_redirects=follow_redirects,\n\u001B[32m    945\u001B[39m         history=history,\n\u001B[32m    946\u001B[39m     )\n\u001B[32m    947\u001B[39m     \u001B[38;5;28;01mtry\u001B[39;00m:\n\u001B[32m    948\u001B[39m         \u001B[38;5;28;01mtry\u001B[39;00m:\n",
      "\u001B[36mFile \u001B[39m\u001B[32m~/miniconda3/envs/vanir/lib/python3.11/site-packages/httpx/_client.py:979\u001B[39m, in \u001B[36mClient._send_handling_redirects\u001B[39m\u001B[34m(self, request, follow_redirects, history)\u001B[39m\n\u001B[32m    976\u001B[39m \u001B[38;5;28;01mfor\u001B[39;00m hook \u001B[38;5;129;01min\u001B[39;00m \u001B[38;5;28mself\u001B[39m._event_hooks[\u001B[33m\"\u001B[39m\u001B[33mrequest\u001B[39m\u001B[33m\"\u001B[39m]:\n\u001B[32m    977\u001B[39m     hook(request)\n\u001B[32m--> \u001B[39m\u001B[32m979\u001B[39m response = \u001B[38;5;28mself\u001B[39m._send_single_request(request)\n\u001B[32m    980\u001B[39m \u001B[38;5;28;01mtry\u001B[39;00m:\n\u001B[32m    981\u001B[39m     \u001B[38;5;28;01mfor\u001B[39;00m hook \u001B[38;5;129;01min\u001B[39;00m \u001B[38;5;28mself\u001B[39m._event_hooks[\u001B[33m\"\u001B[39m\u001B[33mresponse\u001B[39m\u001B[33m\"\u001B[39m]:\n",
      "\u001B[36mFile \u001B[39m\u001B[32m~/miniconda3/envs/vanir/lib/python3.11/site-packages/httpx/_client.py:1014\u001B[39m, in \u001B[36mClient._send_single_request\u001B[39m\u001B[34m(self, request)\u001B[39m\n\u001B[32m   1009\u001B[39m     \u001B[38;5;28;01mraise\u001B[39;00m \u001B[38;5;167;01mRuntimeError\u001B[39;00m(\n\u001B[32m   1010\u001B[39m         \u001B[33m\"\u001B[39m\u001B[33mAttempted to send an async request with a sync Client instance.\u001B[39m\u001B[33m\"\u001B[39m\n\u001B[32m   1011\u001B[39m     )\n\u001B[32m   1013\u001B[39m \u001B[38;5;28;01mwith\u001B[39;00m request_context(request=request):\n\u001B[32m-> \u001B[39m\u001B[32m1014\u001B[39m     response = transport.handle_request(request)\n\u001B[32m   1016\u001B[39m \u001B[38;5;28;01massert\u001B[39;00m \u001B[38;5;28misinstance\u001B[39m(response.stream, SyncByteStream)\n\u001B[32m   1018\u001B[39m response.request = request\n",
      "\u001B[36mFile \u001B[39m\u001B[32m~/miniconda3/envs/vanir/lib/python3.11/site-packages/httpx/_transports/default.py:250\u001B[39m, in \u001B[36mHTTPTransport.handle_request\u001B[39m\u001B[34m(self, request)\u001B[39m\n\u001B[32m    237\u001B[39m req = httpcore.Request(\n\u001B[32m    238\u001B[39m     method=request.method,\n\u001B[32m    239\u001B[39m     url=httpcore.URL(\n\u001B[32m   (...)\u001B[39m\u001B[32m    247\u001B[39m     extensions=request.extensions,\n\u001B[32m    248\u001B[39m )\n\u001B[32m    249\u001B[39m \u001B[38;5;28;01mwith\u001B[39;00m map_httpcore_exceptions():\n\u001B[32m--> \u001B[39m\u001B[32m250\u001B[39m     resp = \u001B[38;5;28mself\u001B[39m._pool.handle_request(req)\n\u001B[32m    252\u001B[39m \u001B[38;5;28;01massert\u001B[39;00m \u001B[38;5;28misinstance\u001B[39m(resp.stream, typing.Iterable)\n\u001B[32m    254\u001B[39m \u001B[38;5;28;01mreturn\u001B[39;00m Response(\n\u001B[32m    255\u001B[39m     status_code=resp.status,\n\u001B[32m    256\u001B[39m     headers=resp.headers,\n\u001B[32m    257\u001B[39m     stream=ResponseStream(resp.stream),\n\u001B[32m    258\u001B[39m     extensions=resp.extensions,\n\u001B[32m    259\u001B[39m )\n",
      "\u001B[36mFile \u001B[39m\u001B[32m~/miniconda3/envs/vanir/lib/python3.11/site-packages/httpcore/_sync/connection_pool.py:256\u001B[39m, in \u001B[36mConnectionPool.handle_request\u001B[39m\u001B[34m(self, request)\u001B[39m\n\u001B[32m    253\u001B[39m         closing = \u001B[38;5;28mself\u001B[39m._assign_requests_to_connections()\n\u001B[32m    255\u001B[39m     \u001B[38;5;28mself\u001B[39m._close_connections(closing)\n\u001B[32m--> \u001B[39m\u001B[32m256\u001B[39m     \u001B[38;5;28;01mraise\u001B[39;00m exc \u001B[38;5;28;01mfrom\u001B[39;00m\u001B[38;5;250m \u001B[39m\u001B[38;5;28;01mNone\u001B[39;00m\n\u001B[32m    258\u001B[39m \u001B[38;5;66;03m# Return the response. Note that in this case we still have to manage\u001B[39;00m\n\u001B[32m    259\u001B[39m \u001B[38;5;66;03m# the point at which the response is closed.\u001B[39;00m\n\u001B[32m    260\u001B[39m \u001B[38;5;28;01massert\u001B[39;00m \u001B[38;5;28misinstance\u001B[39m(response.stream, typing.Iterable)\n",
      "\u001B[36mFile \u001B[39m\u001B[32m~/miniconda3/envs/vanir/lib/python3.11/site-packages/httpcore/_sync/connection_pool.py:236\u001B[39m, in \u001B[36mConnectionPool.handle_request\u001B[39m\u001B[34m(self, request)\u001B[39m\n\u001B[32m    232\u001B[39m connection = pool_request.wait_for_connection(timeout=timeout)\n\u001B[32m    234\u001B[39m \u001B[38;5;28;01mtry\u001B[39;00m:\n\u001B[32m    235\u001B[39m     \u001B[38;5;66;03m# Send the request on the assigned connection.\u001B[39;00m\n\u001B[32m--> \u001B[39m\u001B[32m236\u001B[39m     response = connection.handle_request(\n\u001B[32m    237\u001B[39m         pool_request.request\n\u001B[32m    238\u001B[39m     )\n\u001B[32m    239\u001B[39m \u001B[38;5;28;01mexcept\u001B[39;00m ConnectionNotAvailable:\n\u001B[32m    240\u001B[39m     \u001B[38;5;66;03m# In some cases a connection may initially be available to\u001B[39;00m\n\u001B[32m    241\u001B[39m     \u001B[38;5;66;03m# handle a request, but then become unavailable.\u001B[39;00m\n\u001B[32m    242\u001B[39m     \u001B[38;5;66;03m#\u001B[39;00m\n\u001B[32m    243\u001B[39m     \u001B[38;5;66;03m# In this case we clear the connection and try again.\u001B[39;00m\n\u001B[32m    244\u001B[39m     pool_request.clear_connection()\n",
      "\u001B[36mFile \u001B[39m\u001B[32m~/miniconda3/envs/vanir/lib/python3.11/site-packages/httpcore/_sync/connection.py:103\u001B[39m, in \u001B[36mHTTPConnection.handle_request\u001B[39m\u001B[34m(self, request)\u001B[39m\n\u001B[32m    100\u001B[39m     \u001B[38;5;28mself\u001B[39m._connect_failed = \u001B[38;5;28;01mTrue\u001B[39;00m\n\u001B[32m    101\u001B[39m     \u001B[38;5;28;01mraise\u001B[39;00m exc\n\u001B[32m--> \u001B[39m\u001B[32m103\u001B[39m \u001B[38;5;28;01mreturn\u001B[39;00m \u001B[38;5;28mself\u001B[39m._connection.handle_request(request)\n",
      "\u001B[36mFile \u001B[39m\u001B[32m~/miniconda3/envs/vanir/lib/python3.11/site-packages/httpcore/_sync/http11.py:136\u001B[39m, in \u001B[36mHTTP11Connection.handle_request\u001B[39m\u001B[34m(self, request)\u001B[39m\n\u001B[32m    134\u001B[39m     \u001B[38;5;28;01mwith\u001B[39;00m Trace(\u001B[33m\"\u001B[39m\u001B[33mresponse_closed\u001B[39m\u001B[33m\"\u001B[39m, logger, request) \u001B[38;5;28;01mas\u001B[39;00m trace:\n\u001B[32m    135\u001B[39m         \u001B[38;5;28mself\u001B[39m._response_closed()\n\u001B[32m--> \u001B[39m\u001B[32m136\u001B[39m \u001B[38;5;28;01mraise\u001B[39;00m exc\n",
      "\u001B[36mFile \u001B[39m\u001B[32m~/miniconda3/envs/vanir/lib/python3.11/site-packages/httpcore/_sync/http11.py:106\u001B[39m, in \u001B[36mHTTP11Connection.handle_request\u001B[39m\u001B[34m(self, request)\u001B[39m\n\u001B[32m     95\u001B[39m     \u001B[38;5;28;01mpass\u001B[39;00m\n\u001B[32m     97\u001B[39m \u001B[38;5;28;01mwith\u001B[39;00m Trace(\n\u001B[32m     98\u001B[39m     \u001B[33m\"\u001B[39m\u001B[33mreceive_response_headers\u001B[39m\u001B[33m\"\u001B[39m, logger, request, kwargs\n\u001B[32m     99\u001B[39m ) \u001B[38;5;28;01mas\u001B[39;00m trace:\n\u001B[32m    100\u001B[39m     (\n\u001B[32m    101\u001B[39m         http_version,\n\u001B[32m    102\u001B[39m         status,\n\u001B[32m    103\u001B[39m         reason_phrase,\n\u001B[32m    104\u001B[39m         headers,\n\u001B[32m    105\u001B[39m         trailing_data,\n\u001B[32m--> \u001B[39m\u001B[32m106\u001B[39m     ) = \u001B[38;5;28mself\u001B[39m._receive_response_headers(**kwargs)\n\u001B[32m    107\u001B[39m     trace.return_value = (\n\u001B[32m    108\u001B[39m         http_version,\n\u001B[32m    109\u001B[39m         status,\n\u001B[32m    110\u001B[39m         reason_phrase,\n\u001B[32m    111\u001B[39m         headers,\n\u001B[32m    112\u001B[39m     )\n\u001B[32m    114\u001B[39m network_stream = \u001B[38;5;28mself\u001B[39m._network_stream\n",
      "\u001B[36mFile \u001B[39m\u001B[32m~/miniconda3/envs/vanir/lib/python3.11/site-packages/httpcore/_sync/http11.py:177\u001B[39m, in \u001B[36mHTTP11Connection._receive_response_headers\u001B[39m\u001B[34m(self, request)\u001B[39m\n\u001B[32m    174\u001B[39m timeout = timeouts.get(\u001B[33m\"\u001B[39m\u001B[33mread\u001B[39m\u001B[33m\"\u001B[39m, \u001B[38;5;28;01mNone\u001B[39;00m)\n\u001B[32m    176\u001B[39m \u001B[38;5;28;01mwhile\u001B[39;00m \u001B[38;5;28;01mTrue\u001B[39;00m:\n\u001B[32m--> \u001B[39m\u001B[32m177\u001B[39m     event = \u001B[38;5;28mself\u001B[39m._receive_event(timeout=timeout)\n\u001B[32m    178\u001B[39m     \u001B[38;5;28;01mif\u001B[39;00m \u001B[38;5;28misinstance\u001B[39m(event, h11.Response):\n\u001B[32m    179\u001B[39m         \u001B[38;5;28;01mbreak\u001B[39;00m\n",
      "\u001B[36mFile \u001B[39m\u001B[32m~/miniconda3/envs/vanir/lib/python3.11/site-packages/httpcore/_sync/http11.py:217\u001B[39m, in \u001B[36mHTTP11Connection._receive_event\u001B[39m\u001B[34m(self, timeout)\u001B[39m\n\u001B[32m    214\u001B[39m     event = \u001B[38;5;28mself\u001B[39m._h11_state.next_event()\n\u001B[32m    216\u001B[39m \u001B[38;5;28;01mif\u001B[39;00m event \u001B[38;5;129;01mis\u001B[39;00m h11.NEED_DATA:\n\u001B[32m--> \u001B[39m\u001B[32m217\u001B[39m     data = \u001B[38;5;28mself\u001B[39m._network_stream.read(\n\u001B[32m    218\u001B[39m         \u001B[38;5;28mself\u001B[39m.READ_NUM_BYTES, timeout=timeout\n\u001B[32m    219\u001B[39m     )\n\u001B[32m    221\u001B[39m     \u001B[38;5;66;03m# If we feed this case through h11 we'll raise an exception like:\u001B[39;00m\n\u001B[32m    222\u001B[39m     \u001B[38;5;66;03m#\u001B[39;00m\n\u001B[32m    223\u001B[39m     \u001B[38;5;66;03m#     httpcore.RemoteProtocolError: can't handle event type\u001B[39;00m\n\u001B[32m   (...)\u001B[39m\u001B[32m    227\u001B[39m     \u001B[38;5;66;03m# perspective. Instead we handle this case distinctly and treat\u001B[39;00m\n\u001B[32m    228\u001B[39m     \u001B[38;5;66;03m# it as a ConnectError.\u001B[39;00m\n\u001B[32m    229\u001B[39m     \u001B[38;5;28;01mif\u001B[39;00m data == \u001B[33mb\u001B[39m\u001B[33m\"\u001B[39m\u001B[33m\"\u001B[39m \u001B[38;5;129;01mand\u001B[39;00m \u001B[38;5;28mself\u001B[39m._h11_state.their_state == h11.SEND_RESPONSE:\n",
      "\u001B[36mFile \u001B[39m\u001B[32m~/miniconda3/envs/vanir/lib/python3.11/site-packages/httpcore/_backends/sync.py:128\u001B[39m, in \u001B[36mSyncStream.read\u001B[39m\u001B[34m(self, max_bytes, timeout)\u001B[39m\n\u001B[32m    126\u001B[39m \u001B[38;5;28;01mwith\u001B[39;00m map_exceptions(exc_map):\n\u001B[32m    127\u001B[39m     \u001B[38;5;28mself\u001B[39m._sock.settimeout(timeout)\n\u001B[32m--> \u001B[39m\u001B[32m128\u001B[39m     \u001B[38;5;28;01mreturn\u001B[39;00m \u001B[38;5;28mself\u001B[39m._sock.recv(max_bytes)\n",
      "\u001B[36mFile \u001B[39m\u001B[32m~/miniconda3/envs/vanir/lib/python3.11/ssl.py:1295\u001B[39m, in \u001B[36mSSLSocket.recv\u001B[39m\u001B[34m(self, buflen, flags)\u001B[39m\n\u001B[32m   1291\u001B[39m     \u001B[38;5;28;01mif\u001B[39;00m flags != \u001B[32m0\u001B[39m:\n\u001B[32m   1292\u001B[39m         \u001B[38;5;28;01mraise\u001B[39;00m \u001B[38;5;167;01mValueError\u001B[39;00m(\n\u001B[32m   1293\u001B[39m             \u001B[33m\"\u001B[39m\u001B[33mnon-zero flags not allowed in calls to recv() on \u001B[39m\u001B[38;5;132;01m%s\u001B[39;00m\u001B[33m\"\u001B[39m %\n\u001B[32m   1294\u001B[39m             \u001B[38;5;28mself\u001B[39m.\u001B[34m__class__\u001B[39m)\n\u001B[32m-> \u001B[39m\u001B[32m1295\u001B[39m     \u001B[38;5;28;01mreturn\u001B[39;00m \u001B[38;5;28mself\u001B[39m.read(buflen)\n\u001B[32m   1296\u001B[39m \u001B[38;5;28;01melse\u001B[39;00m:\n\u001B[32m   1297\u001B[39m     \u001B[38;5;28;01mreturn\u001B[39;00m \u001B[38;5;28msuper\u001B[39m().recv(buflen, flags)\n",
      "\u001B[36mFile \u001B[39m\u001B[32m~/miniconda3/envs/vanir/lib/python3.11/ssl.py:1168\u001B[39m, in \u001B[36mSSLSocket.read\u001B[39m\u001B[34m(self, len, buffer)\u001B[39m\n\u001B[32m   1166\u001B[39m         \u001B[38;5;28;01mreturn\u001B[39;00m \u001B[38;5;28mself\u001B[39m._sslobj.read(\u001B[38;5;28mlen\u001B[39m, buffer)\n\u001B[32m   1167\u001B[39m     \u001B[38;5;28;01melse\u001B[39;00m:\n\u001B[32m-> \u001B[39m\u001B[32m1168\u001B[39m         \u001B[38;5;28;01mreturn\u001B[39;00m \u001B[38;5;28mself\u001B[39m._sslobj.read(\u001B[38;5;28mlen\u001B[39m)\n\u001B[32m   1169\u001B[39m \u001B[38;5;28;01mexcept\u001B[39;00m SSLError \u001B[38;5;28;01mas\u001B[39;00m x:\n\u001B[32m   1170\u001B[39m     \u001B[38;5;28;01mif\u001B[39;00m x.args[\u001B[32m0\u001B[39m] == SSL_ERROR_EOF \u001B[38;5;129;01mand\u001B[39;00m \u001B[38;5;28mself\u001B[39m.suppress_ragged_eofs:\n",
      "\u001B[31mKeyboardInterrupt\u001B[39m: "
     ]
    }
   ],
   "execution_count": 3
  },
  {
   "metadata": {
    "ExecuteTime": {
     "end_time": "2025-07-30T13:16:53.077950416Z",
     "start_time": "2025-07-22T16:06:52.242173Z"
    }
   },
   "cell_type": "code",
   "source": [
    "from langchain_cohere import ChatCohere\n",
    "\n",
    "chat = ChatCohere(model='command-r-plus', temprature=0.1)"
   ],
   "id": "162bda7a3a531f43",
   "outputs": [],
   "execution_count": 13
  },
  {
   "metadata": {
    "ExecuteTime": {
     "end_time": "2025-07-22T16:10:18.843133Z",
     "start_time": "2025-07-22T16:10:17.398115Z"
    }
   },
   "cell_type": "code",
   "source": [
    "from langchain_core.messages import HumanMessage, SystemMessage\n",
    "\n",
    "messages = [\n",
    "    SystemMessage(\n",
    "        content = \"تو یک معلم زبان آلمانی هستی. پاسخ دانش‌آموز رو به‌صورت خلاصه و با یک مثال کوتاه رایج و عامیانه بده.\"\n",
    "    ),\n",
    "    HumanMessage(\n",
    "        content = \"ترجمه‌ی کلمه‌ی «دانشگاه» به آلمانی چی میشه؟\"\n",
    "    )\n",
    "]\n",
    "\n",
    "response = chat.invoke(messages)\n",
    "response"
   ],
   "id": "60ce0658867404ef",
   "outputs": [
    {
     "data": {
      "text/plain": [
       "AIMessage(content='دانشگاه به آلمانی \"die Universität\" یا به صورت کوتاه\\u200cشده \"die Uni\" گفته می\\u200cشه. مثلاً می\\u200cتونی بگی: \"Ich gehe zur Uni.\" یعنی \"من دارم می\\u200cرم دانشگاه.\"', additional_kwargs={'documents': None, 'citations': None, 'search_results': None, 'search_queries': None, 'is_search_required': None, 'generation_id': '54ed99a0-8b5f-44d0-b6fa-4e0b4476f779', 'token_count': {'input_tokens': 119.0, 'output_tokens': 48.0}}, response_metadata={'documents': None, 'citations': None, 'search_results': None, 'search_queries': None, 'is_search_required': None, 'generation_id': '54ed99a0-8b5f-44d0-b6fa-4e0b4476f779', 'token_count': {'input_tokens': 119.0, 'output_tokens': 48.0}}, id='run-6011d370-1365-44a0-82a9-0311df46dfa2-0', usage_metadata={'input_tokens': 119, 'output_tokens': 48, 'total_tokens': 167})"
      ]
     },
     "execution_count": 15,
     "metadata": {},
     "output_type": "execute_result"
    }
   ],
   "execution_count": 15
  },
  {
   "metadata": {
    "ExecuteTime": {
     "end_time": "2025-07-22T16:13:16.978193Z",
     "start_time": "2025-07-22T16:13:16.970850Z"
    }
   },
   "cell_type": "code",
   "source": "response.dict()",
   "id": "a267dfc01e8ec29b",
   "outputs": [
    {
     "data": {
      "text/plain": [
       "{'content': 'دانشگاه به آلمانی \"die Universität\" یا به صورت کوتاه\\u200cشده \"die Uni\" گفته می\\u200cشه. مثلاً می\\u200cتونی بگی: \"Ich gehe zur Uni.\" یعنی \"من دارم می\\u200cرم دانشگاه.\"',\n",
       " 'additional_kwargs': {'documents': None,\n",
       "  'citations': None,\n",
       "  'search_results': None,\n",
       "  'search_queries': None,\n",
       "  'is_search_required': None,\n",
       "  'generation_id': '54ed99a0-8b5f-44d0-b6fa-4e0b4476f779',\n",
       "  'token_count': {'input_tokens': 119.0, 'output_tokens': 48.0}},\n",
       " 'response_metadata': {'documents': None,\n",
       "  'citations': None,\n",
       "  'search_results': None,\n",
       "  'search_queries': None,\n",
       "  'is_search_required': None,\n",
       "  'generation_id': '54ed99a0-8b5f-44d0-b6fa-4e0b4476f779',\n",
       "  'token_count': {'input_tokens': 119.0, 'output_tokens': 48.0}},\n",
       " 'type': 'ai',\n",
       " 'name': None,\n",
       " 'id': 'run-6011d370-1365-44a0-82a9-0311df46dfa2-0',\n",
       " 'example': False,\n",
       " 'tool_calls': [],\n",
       " 'invalid_tool_calls': [],\n",
       " 'usage_metadata': {'input_tokens': 119,\n",
       "  'output_tokens': 48,\n",
       "  'total_tokens': 167}}"
      ]
     },
     "execution_count": 17,
     "metadata": {},
     "output_type": "execute_result"
    }
   ],
   "execution_count": 17
  },
  {
   "metadata": {
    "ExecuteTime": {
     "end_time": "2025-07-22T16:13:35.777755Z",
     "start_time": "2025-07-22T16:13:35.771869Z"
    }
   },
   "cell_type": "code",
   "source": "response.content",
   "id": "8b7d4596a7a0278",
   "outputs": [
    {
     "data": {
      "text/plain": [
       "'دانشگاه به آلمانی \"die Universität\" یا به صورت کوتاه\\u200cشده \"die Uni\" گفته می\\u200cشه. مثلاً می\\u200cتونی بگی: \"Ich gehe zur Uni.\" یعنی \"من دارم می\\u200cرم دانشگاه.\"'"
      ]
     },
     "execution_count": 18,
     "metadata": {},
     "output_type": "execute_result"
    }
   ],
   "execution_count": 18
  },
  {
   "metadata": {
    "ExecuteTime": {
     "end_time": "2025-07-22T16:14:38.249187Z",
     "start_time": "2025-07-22T16:14:38.244717Z"
    }
   },
   "cell_type": "code",
   "source": "response.additional_kwargs['token_count']",
   "id": "3a6aca0c99188cef",
   "outputs": [
    {
     "data": {
      "text/plain": [
       "{'input_tokens': 119.0, 'output_tokens': 48.0}"
      ]
     },
     "execution_count": 19,
     "metadata": {},
     "output_type": "execute_result"
    }
   ],
   "execution_count": 19
  },
  {
   "metadata": {
    "ExecuteTime": {
     "end_time": "2025-07-22T16:37:00.146509Z",
     "start_time": "2025-07-22T16:36:54.883629Z"
    }
   },
   "cell_type": "code",
   "source": [
    "### batch\n",
    "from langchain_core.messages import HumanMessage, SystemMessage\n",
    "\n",
    "system = SystemMessage(content = \"تو یک معلم زبان آلمانی هستی. پاسخ دانش‌آموز رو با نگاه آموزشی و با یک یا چند مثال رایج و عامیانه بده.\")\n",
    "\n",
    "messages = [\n",
    "    [system, HumanMessage(content = \"شب به خیر به آلمانی چی میشه؟\")],\n",
    "    [system, HumanMessage(content = \"چطور به آلمانی بگم من در تهران متولد شدم؟\")]\n",
    "]\n",
    "\n",
    "responses = chat.batch(messages)\n",
    "responses"
   ],
   "id": "3a5de179800d2c2e",
   "outputs": [
    {
     "data": {
      "text/plain": [
       "[AIMessage(content='\"Gute Nacht\" \\n\\nمثال: \"Gute Nacht, schlaf gut!\" (شب بخیر، خواب خوبی داشته باش!)', additional_kwargs={'documents': None, 'citations': None, 'search_results': None, 'search_queries': None, 'is_search_required': None, 'generation_id': 'b571ea41-c050-4cf0-bf77-bf97c6794527', 'token_count': {'input_tokens': 112.0, 'output_tokens': 30.0}}, response_metadata={'documents': None, 'citations': None, 'search_results': None, 'search_queries': None, 'is_search_required': None, 'generation_id': 'b571ea41-c050-4cf0-bf77-bf97c6794527', 'token_count': {'input_tokens': 112.0, 'output_tokens': 30.0}}, id='run-579000da-4a8d-4150-8fe3-aabe7ca6a013-0', usage_metadata={'input_tokens': 112, 'output_tokens': 30, 'total_tokens': 142}),\n",
       " AIMessage(content='شما می\\u200cتوانید بگویید: \"Ich bin in Teheran geboren.\"\\n\\nمثال: \"Ich bin in Teheran geboren und aufgewachsen. Ich habe dort meine ersten Lebensjahre verbracht, bevor meine Familie nach Deutschland zog, als ich zehn war.\"\\n\\nدر این مثال، شخص می\\u200cگوید که در تهران به دنیا آمده و بزرگ شده است. او همچنین توضیح می\\u200cدهد که تا ۱۰ سالگی در تهران زندگی کرده و سپس به آلمان مهاجرت کرده است.', additional_kwargs={'documents': None, 'citations': None, 'search_results': None, 'search_queries': None, 'is_search_required': None, 'generation_id': 'e9f399ef-402c-4be2-b7f6-716208c5fd02', 'token_count': {'input_tokens': 115.0, 'output_tokens': 101.0}}, response_metadata={'documents': None, 'citations': None, 'search_results': None, 'search_queries': None, 'is_search_required': None, 'generation_id': 'e9f399ef-402c-4be2-b7f6-716208c5fd02', 'token_count': {'input_tokens': 115.0, 'output_tokens': 101.0}}, id='run-e51c1a6c-a114-4e2d-a0a4-5125c3ce1631-0', usage_metadata={'input_tokens': 115, 'output_tokens': 101, 'total_tokens': 216})]"
      ]
     },
     "execution_count": 21,
     "metadata": {},
     "output_type": "execute_result"
    }
   ],
   "execution_count": 21
  },
  {
   "metadata": {
    "ExecuteTime": {
     "end_time": "2025-07-22T16:39:17.721987Z",
     "start_time": "2025-07-22T16:39:17.716167Z"
    }
   },
   "cell_type": "code",
   "source": [
    "for response in responses:\n",
    "    print(response.content)\n",
    "    print('*'*70)"
   ],
   "id": "bc03209079b17045",
   "outputs": [
    {
     "name": "stdout",
     "output_type": "stream",
     "text": [
      "\"Gute Nacht\" \n",
      "\n",
      "مثال: \"Gute Nacht, schlaf gut!\" (شب بخیر، خواب خوبی داشته باش!)\n",
      "**********************************************************************\n",
      "شما می‌توانید بگویید: \"Ich bin in Teheran geboren.\"\n",
      "\n",
      "مثال: \"Ich bin in Teheran geboren und aufgewachsen. Ich habe dort meine ersten Lebensjahre verbracht, bevor meine Familie nach Deutschland zog, als ich zehn war.\"\n",
      "\n",
      "در این مثال، شخص می‌گوید که در تهران به دنیا آمده و بزرگ شده است. او همچنین توضیح می‌دهد که تا ۱۰ سالگی در تهران زندگی کرده و سپس به آلمان مهاجرت کرده است.\n",
      "**********************************************************************\n"
     ]
    }
   ],
   "execution_count": 24
  },
  {
   "metadata": {
    "ExecuteTime": {
     "end_time": "2025-07-22T16:43:52.437272Z",
     "start_time": "2025-07-22T16:43:52.427110Z"
    }
   },
   "cell_type": "code",
   "source": [
    "# display enhancement\n",
    "import markdown\n",
    "from IPython.display import display, HTML\n",
    "\n",
    "def print_md(content):\n",
    "    content = markdown.markdown(content)\n",
    "    content = \"<div dir=rtl>{}</div>\".format(content)\n",
    "    display(HTML(content))\n",
    "\n",
    "for response in responses:\n",
    "    print_md(response.content)\n",
    "    # print('*'*70)"
   ],
   "id": "6a90248c689f0749",
   "outputs": [
    {
     "data": {
      "text/plain": [
       "<IPython.core.display.HTML object>"
      ],
      "text/html": [
       "<div dir=rtl><p>\"Gute Nacht\" </p>\n",
       "<p>مثال: \"Gute Nacht, schlaf gut!\" (شب بخیر، خواب خوبی داشته باش!)</p></div>"
      ]
     },
     "metadata": {},
     "output_type": "display_data"
    },
    {
     "data": {
      "text/plain": [
       "<IPython.core.display.HTML object>"
      ],
      "text/html": [
       "<div dir=rtl><p>شما می‌توانید بگویید: \"Ich bin in Teheran geboren.\"</p>\n",
       "<p>مثال: \"Ich bin in Teheran geboren und aufgewachsen. Ich habe dort meine ersten Lebensjahre verbracht, bevor meine Familie nach Deutschland zog, als ich zehn war.\"</p>\n",
       "<p>در این مثال، شخص می‌گوید که در تهران به دنیا آمده و بزرگ شده است. او همچنین توضیح می‌دهد که تا ۱۰ سالگی در تهران زندگی کرده و سپس به آلمان مهاجرت کرده است.</p></div>"
      ]
     },
     "metadata": {},
     "output_type": "display_data"
    }
   ],
   "execution_count": 32
  },
  {
   "metadata": {
    "ExecuteTime": {
     "end_time": "2025-07-22T17:07:19.320650Z",
     "start_time": "2025-07-22T17:07:13.503144Z"
    }
   },
   "cell_type": "code",
   "source": [
    "for message in messages:\n",
    "    for chunk in chat.stream(message):\n",
    "        print(chunk.content, end=\"\", flush=True)"
   ],
   "id": "c0b3cef296bfbe30",
   "outputs": [
    {
     "name": "stdout",
     "output_type": "stream",
     "text": [
      "\"Gute Nacht\"شما می‌توانید بگویید: \"Ich bin in Teheran geboren.\"\n",
      "\n",
      "مثال: \"Ich bin in Teheran geboren und habe dort die ersten Jahre meines Lebens verbracht. Es ist eine lebhafte und faszinierende Stadt mit einer reichen Geschichte und Kultur.\"\n",
      "\n",
      "به عبارت \"in Teheran\" دقت کنید که نشان‌دهنده محل تولد شماست. همچنین، فعل \"geboren sein\" به معنی \"متولد شدن\" است که در این جمله در زمان ماضی (Perfekt) به کار رفته است."
     ]
    }
   ],
   "execution_count": 37
  },
  {
   "metadata": {
    "ExecuteTime": {
     "end_time": "2025-07-23T17:05:11.451620Z",
     "start_time": "2025-07-23T17:05:11.445414Z"
    }
   },
   "cell_type": "code",
   "source": [
    "from langchain_core.prompts import PromptTemplate\n",
    "\n",
    "prompt_template = PromptTemplate.from_template(\n",
    "    \"Generate a very short conversation between two people about {topic}\"\n",
    ")\n",
    "\n",
    "response = model.invoke(prompt_template.format(topic='weather'))\n",
    "print(response)"
   ],
   "id": "5c8971d8f1bf64d1",
   "outputs": [],
   "execution_count": 3
  },
  {
   "metadata": {
    "ExecuteTime": {
     "end_time": "2025-07-26T17:11:59.273615Z",
     "start_time": "2025-07-26T17:11:56.442540Z"
    }
   },
   "cell_type": "code",
   "source": [
    "from langchain_cohere import ChatCohere\n",
    "from langchain_core.prompts import ChatPromptTemplate\n",
    "\n",
    "chat_model = ChatCohere(model='command-r-plus', temperature=0.1)\n",
    "\n",
    "# poet\n",
    "message_prompt_poem = ChatPromptTemplate.from_messages([\n",
    "    (\"system\", \" تو یک شاعر ایرانی هستی \"),\n",
    "    (\"human\", \"یک شعر دو بیتی درباره‌ی {topic} بگو\")\n",
    "    ])\n",
    "\n",
    "chain_poem = message_prompt_poem | chat_model\n",
    "\n",
    "%time\n",
    "chain_response_poem = chain_poem.invoke({\"topic\": \"پاییز\"})\n",
    "print(f'{chain_response_poem.content}')\n"
   ],
   "id": "e6257f583485074f",
   "outputs": [
    {
     "name": "stdout",
     "output_type": "stream",
     "text": [
      "CPU times: user 3 μs, sys: 0 ns, total: 3 μs\n",
      "Wall time: 6.44 μs\n",
      "پاییز آمد و برگ‌ها رنگارنگ شد\n",
      "باد خزان، رقص کنان، در درختان نشست\n",
      "باران مهر، بر زمین تشنه می‌بارد\n",
      "فصل شادی و عشق و شور و نوا رسید\n",
      "\n",
      "در این فصل، عشق در هر برگ و باریدن باران است\n",
      "در هر نسیم خنک و در هر نغمه‌ی پرستوی\n"
     ]
    }
   ],
   "execution_count": 8
  },
  {
   "metadata": {
    "ExecuteTime": {
     "end_time": "2025-07-26T17:12:03.343864Z",
     "start_time": "2025-07-26T17:11:59.310629Z"
    }
   },
   "cell_type": "code",
   "source": [
    "# writer\n",
    "message_prompt_story = ChatPromptTemplate.from_messages([\n",
    "    (\"system\", \" تو یک نویسنده‌ی ایرانی هستی \"),\n",
    "    (\"human\", \"یک داستان خیلی خیلی خیلی کوتاه درباره‌ی {topic}\")\n",
    "])\n",
    "\n",
    "chain_story = message_prompt_story | chat_model\n",
    "\n",
    "%time\n",
    "chain_response_story = chain_story.invoke({\"topic\":\"پاییز\"})\n",
    "print(f'{chain_response_story.content}')"
   ],
   "id": "3243aff3bd53bcc5",
   "outputs": [
    {
     "name": "stdout",
     "output_type": "stream",
     "text": [
      "CPU times: user 4 μs, sys: 0 ns, total: 4 μs\n",
      "Wall time: 6.91 μs\n",
      "پاییز آمده بود و برگ‌ها یکی یکی از درختان جدا می‌شدند و روی زمین می‌افتادند. دخترکی زیر درختی ایستاده بود و به رقص برگ‌ها در باد نگاه می‌کرد. او دست‌هایش را باز کرد و برگ‌ها را جمع کرد، گویی هدیه‌ای از آسمان بود. دخترک برگ‌ها را روی هم ریخت و خندید، در حالی که خورشید غروب می‌کرد و آسمان به رنگ‌های نارنجی و زرد درخشان می‌شد.\n"
     ]
    }
   ],
   "execution_count": 9
  },
  {
   "metadata": {
    "ExecuteTime": {
     "end_time": "2025-07-26T17:18:38.155103Z",
     "start_time": "2025-07-26T17:18:34.873617Z"
    }
   },
   "cell_type": "code",
   "source": [
    "# joining the runnables together using RunnableParallel\n",
    "from langchain_core.runnables import RunnableParallel\n",
    "\n",
    "combined = RunnableParallel(poem=chain_poem, story=chain_story)\n",
    "%time\n",
    "combined.invoke({\"topic\": \"پاییز\"})"
   ],
   "id": "b0d96f7472bc04f4",
   "outputs": [
    {
     "name": "stdout",
     "output_type": "stream",
     "text": [
      "CPU times: user 4 μs, sys: 2 μs, total: 6 μs\n",
      "Wall time: 12.2 μs\n"
     ]
    },
    {
     "data": {
      "text/plain": [
       "{'poem': AIMessage(content='پاییز آمد و برگ\\u200cها را رنگارنگ کرد\\nباد خنک می\\u200cوزد و برگ\\u200cها را به رقص در می\\u200cآورد\\n\\nدرختان لباس زرد و قرمز خود را به نمایش می\\u200cگذارند\\nپاییز، فصلی است که طبیعت را به خواب زمستانی دعوت می\\u200cکند', additional_kwargs={'documents': None, 'citations': None, 'search_results': None, 'search_queries': None, 'is_search_required': None, 'generation_id': 'b895dbbb-ca09-4322-baa6-2341bc6c08a7', 'token_count': {'input_tokens': 89.0, 'output_tokens': 71.0}}, response_metadata={'documents': None, 'citations': None, 'search_results': None, 'search_queries': None, 'is_search_required': None, 'generation_id': 'b895dbbb-ca09-4322-baa6-2341bc6c08a7', 'token_count': {'input_tokens': 89.0, 'output_tokens': 71.0}}, id='run-9b3cfdd3-33ec-47f4-b93a-7692124ced71-0', usage_metadata={'input_tokens': 89, 'output_tokens': 71, 'total_tokens': 160}),\n",
       " 'story': AIMessage(content='پاییز آمده بود و برگ\\u200cها یکی یکی از درختان جدا می\\u200cشدند و روی زمین می\\u200cافتادند. دخترکی زیر درختی ایستاده بود و به رقص برگ\\u200cها در باد نگاه می\\u200cکرد. او دست\\u200cهایش را باز کرد و برگ\\u200cها را جمع کرد، مثل این که داشت آنها را بغل می\\u200cکرد. دخترک برگ\\u200cها را به سمت آسمان پرتاب کرد و آنها مثل پروانه\\u200cهایی رنگارنگ در هوا رقصیدند. دخترک خندید و گفت: \"پاییز، فصل رقص پروانه\\u200cهاست.\"', additional_kwargs={'documents': None, 'citations': None, 'search_results': None, 'search_queries': None, 'is_search_required': None, 'generation_id': '7e8d41e6-85ea-4837-ae9e-1c80953d5e93', 'token_count': {'input_tokens': 93.0, 'output_tokens': 128.0}}, response_metadata={'documents': None, 'citations': None, 'search_results': None, 'search_queries': None, 'is_search_required': None, 'generation_id': '7e8d41e6-85ea-4837-ae9e-1c80953d5e93', 'token_count': {'input_tokens': 93.0, 'output_tokens': 128.0}}, id='run-a0683a0c-0449-4112-acf3-6cdc7bf678a0-0', usage_metadata={'input_tokens': 93, 'output_tokens': 128, 'total_tokens': 221})}"
      ]
     },
     "execution_count": 12,
     "metadata": {},
     "output_type": "execute_result"
    }
   ],
   "execution_count": 12
  },
  {
   "metadata": {
    "ExecuteTime": {
     "end_time": "2025-07-30T13:19:06.185228Z",
     "start_time": "2025-07-30T13:19:06.106427Z"
    }
   },
   "cell_type": "code",
   "source": [
    "from langchain_core.prompts import ChatPromptTemplate\n",
    "from langchain_core.output_parsers import StrOutputParser\n",
    "\n",
    "chat_model = ChatCohere(model='command-r-plus', temperature=0.1)\n",
    "\n",
    "message_prompt = ChatPromptTemplate.from_messages([\n",
    "    (\"system\", \" تو یک معلم ریاضی هستی \"),\n",
    "    (\"human\", \"عدد {first_number} به علاوه‌ی {second_number} چند می‌شود؟\")\n",
    "])\n",
    "\n",
    "model_chain = message_prompt | chat_model | StrOutputParser()"
   ],
   "id": "477d1684058e3c64",
   "outputs": [],
   "execution_count": 6
  },
  {
   "metadata": {
    "ExecuteTime": {
     "end_time": "2025-07-30T13:22:30.477482Z",
     "start_time": "2025-07-30T13:22:29.447018Z"
    }
   },
   "cell_type": "code",
   "source": [
    "first_number, second_number = \"۱۲\", \"شصت و دو\"\n",
    "\n",
    "chain_response = model_chain.invoke({\"first_number\": first_number, \"second_number\": second_number})\n",
    "print(chain_response)"
   ],
   "id": "1e346598e8170a46",
   "outputs": [
    {
     "name": "stdout",
     "output_type": "stream",
     "text": [
      "74\n"
     ]
    }
   ],
   "execution_count": 9
  },
  {
   "metadata": {
    "ExecuteTime": {
     "end_time": "2025-07-30T15:25:13.679274Z",
     "start_time": "2025-07-30T15:25:13.675100Z"
    }
   },
   "cell_type": "code",
   "source": [
    "import re\n",
    "\n",
    "# Define a function to count the number of numbers in a text\n",
    "def count_numbers(text):\n",
    "\n",
    "    # Find all numbers in the text (including Persian and Arabic numbers)\n",
    "    pattern = r'[0-9۰-۹]+'\n",
    "    numbers = re.findall(pattern, text)\n",
    "\n",
    "    # Return the number of numbers found in str format\n",
    "    return str(len(numbers))"
   ],
   "id": "d2c129d997b3829d",
   "outputs": [],
   "execution_count": 10
  },
  {
   "metadata": {
    "ExecuteTime": {
     "end_time": "2025-07-30T15:31:16.022348Z",
     "start_time": "2025-07-30T15:31:14.956790Z"
    }
   },
   "cell_type": "code",
   "source": [
    "from langchain_core.runnables import RunnableLambda\n",
    "\n",
    "count_numbers_runnable = RunnableLambda(count_numbers)\n",
    "\n",
    "chain_with_runnable = model_chain | count_numbers_runnable\n",
    "\n",
    "chain_with_runnable_response = chain_with_runnable.invoke({\"first_number\": first_number, \"second_number\": second_number})\n",
    "\n",
    "print(chain_with_runnable_response)"
   ],
   "id": "19be31fe0e1cbad4",
   "outputs": [
    {
     "name": "stdout",
     "output_type": "stream",
     "text": [
      "1\n"
     ]
    }
   ],
   "execution_count": 14
  },
  {
   "metadata": {},
   "cell_type": "code",
   "outputs": [],
   "execution_count": null,
   "source": "",
   "id": "b3652daf9a108322"
  }
 ],
 "metadata": {
  "kernelspec": {
   "display_name": "Python 3",
   "language": "python",
   "name": "python3"
  },
  "language_info": {
   "codemirror_mode": {
    "name": "ipython",
    "version": 2
   },
   "file_extension": ".py",
   "mimetype": "text/x-python",
   "name": "python",
   "nbconvert_exporter": "python",
   "pygments_lexer": "ipython2",
   "version": "2.7.6"
  }
 },
 "nbformat": 4,
 "nbformat_minor": 5
}
